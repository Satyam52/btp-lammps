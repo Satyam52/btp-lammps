{
 "cells": [
  {
   "cell_type": "code",
   "execution_count": 35,
   "id": "07c0e290-17d2-4455-9e2c-4288aad02a05",
   "metadata": {},
   "outputs": [
    {
     "ename": "NameError",
     "evalue": "name 'matplotlib' is not defined",
     "output_type": "error",
     "traceback": [
      "\u001b[1;31m---------------------------------------------------------------------------\u001b[0m",
      "\u001b[1;31mNameError\u001b[0m                                 Traceback (most recent call last)",
      "\u001b[1;32m~\\AppData\\Local\\Temp/ipykernel_23648/2819965874.py\u001b[0m in \u001b[0;36m<module>\u001b[1;34m\u001b[0m\n\u001b[0;32m      1\u001b[0m \u001b[1;32mimport\u001b[0m \u001b[0mpandas\u001b[0m \u001b[1;32mas\u001b[0m \u001b[0mpd\u001b[0m\u001b[1;33m\u001b[0m\u001b[0m\n\u001b[0;32m      2\u001b[0m \u001b[1;32mimport\u001b[0m \u001b[0mmatplotlib\u001b[0m\u001b[1;33m.\u001b[0m\u001b[0mpyplot\u001b[0m \u001b[1;32mas\u001b[0m \u001b[0mplt\u001b[0m\u001b[1;33m\u001b[0m\u001b[0m\n\u001b[1;32m----> 3\u001b[1;33m \u001b[0mmatplotlib\u001b[0m\u001b[1;33m.\u001b[0m\u001b[0mrcParams\u001b[0m\u001b[1;33m[\u001b[0m\u001b[1;34m'figure.dpi'\u001b[0m\u001b[1;33m]\u001b[0m \u001b[1;33m=\u001b[0m \u001b[1;36m300\u001b[0m\u001b[1;33m\u001b[0m\u001b[0m\n\u001b[0m",
      "\u001b[1;31mNameError\u001b[0m: name 'matplotlib' is not defined"
     ]
    }
   ],
   "source": [
    "import pandas as pd\n",
    "import matplotlib.pyplot as plt"
   ]
  },
  {
   "cell_type": "code",
   "execution_count": 9,
   "id": "cad4dccc-0755-40b5-8683-46fa7c712147",
   "metadata": {},
   "outputs": [],
   "source": [
    "data = pd.read_table(\"./dump.position\")"
   ]
  },
  {
   "cell_type": "code",
   "execution_count": 10,
   "id": "cf0f8287-47a9-4c6d-b4a0-3782df6c529e",
   "metadata": {},
   "outputs": [
    {
     "data": {
      "text/html": [
       "<div>\n",
       "<style scoped>\n",
       "    .dataframe tbody tr th:only-of-type {\n",
       "        vertical-align: middle;\n",
       "    }\n",
       "\n",
       "    .dataframe tbody tr th {\n",
       "        vertical-align: top;\n",
       "    }\n",
       "\n",
       "    .dataframe thead th {\n",
       "        text-align: right;\n",
       "    }\n",
       "</style>\n",
       "<table border=\"1\" class=\"dataframe\">\n",
       "  <thead>\n",
       "    <tr style=\"text-align: right;\">\n",
       "      <th></th>\n",
       "      <th>ITEM: TIMESTEP</th>\n",
       "    </tr>\n",
       "  </thead>\n",
       "  <tbody>\n",
       "    <tr>\n",
       "      <th>0</th>\n",
       "      <td>0</td>\n",
       "    </tr>\n",
       "    <tr>\n",
       "      <th>1</th>\n",
       "      <td>ITEM: NUMBER OF ATOMS</td>\n",
       "    </tr>\n",
       "    <tr>\n",
       "      <th>2</th>\n",
       "      <td>5</td>\n",
       "    </tr>\n",
       "    <tr>\n",
       "      <th>3</th>\n",
       "      <td>ITEM: BOX BOUNDS ff fm pp</td>\n",
       "    </tr>\n",
       "    <tr>\n",
       "      <th>4</th>\n",
       "      <td>-4.1000000000000000e+01 4.1000000000000000e+01</td>\n",
       "    </tr>\n",
       "    <tr>\n",
       "      <th>5</th>\n",
       "      <td>0.0000000000000000e+00 2.0000000000000000e+02</td>\n",
       "    </tr>\n",
       "    <tr>\n",
       "      <th>6</th>\n",
       "      <td>-2.5000000000000000e-01 2.5000000000000000e-01</td>\n",
       "    </tr>\n",
       "    <tr>\n",
       "      <th>7</th>\n",
       "      <td>ITEM: ATOMS id x y</td>\n",
       "    </tr>\n",
       "    <tr>\n",
       "      <th>8</th>\n",
       "      <td>42463 -5.08 126.52</td>\n",
       "    </tr>\n",
       "    <tr>\n",
       "      <th>9</th>\n",
       "      <td>42464 -2.54 126.52</td>\n",
       "    </tr>\n",
       "    <tr>\n",
       "      <th>10</th>\n",
       "      <td>42465 0 126.52</td>\n",
       "    </tr>\n",
       "    <tr>\n",
       "      <th>11</th>\n",
       "      <td>42466 2.54 126.52</td>\n",
       "    </tr>\n",
       "    <tr>\n",
       "      <th>12</th>\n",
       "      <td>42467 5.08 126.52</td>\n",
       "    </tr>\n",
       "    <tr>\n",
       "      <th>13</th>\n",
       "      <td>ITEM: TIMESTEP</td>\n",
       "    </tr>\n",
       "    <tr>\n",
       "      <th>14</th>\n",
       "      <td>10000</td>\n",
       "    </tr>\n",
       "    <tr>\n",
       "      <th>15</th>\n",
       "      <td>ITEM: NUMBER OF ATOMS</td>\n",
       "    </tr>\n",
       "    <tr>\n",
       "      <th>16</th>\n",
       "      <td>5</td>\n",
       "    </tr>\n",
       "    <tr>\n",
       "      <th>17</th>\n",
       "      <td>ITEM: BOX BOUNDS ff fm pp</td>\n",
       "    </tr>\n",
       "    <tr>\n",
       "      <th>18</th>\n",
       "      <td>-4.1000000000000000e+01 4.1000000000000000e+01</td>\n",
       "    </tr>\n",
       "    <tr>\n",
       "      <th>19</th>\n",
       "      <td>0.0000000000000000e+00 2.0000000000000000e+02</td>\n",
       "    </tr>\n",
       "    <tr>\n",
       "      <th>20</th>\n",
       "      <td>-2.5000000000000000e-01 2.5000000000000000e-01</td>\n",
       "    </tr>\n",
       "    <tr>\n",
       "      <th>21</th>\n",
       "      <td>ITEM: ATOMS id x y</td>\n",
       "    </tr>\n",
       "    <tr>\n",
       "      <th>22</th>\n",
       "      <td>42463 -5.08 126.02</td>\n",
       "    </tr>\n",
       "    <tr>\n",
       "      <th>23</th>\n",
       "      <td>42464 -2.54 126.02</td>\n",
       "    </tr>\n",
       "    <tr>\n",
       "      <th>24</th>\n",
       "      <td>42465 -6.12323e-17 126.02</td>\n",
       "    </tr>\n",
       "    <tr>\n",
       "      <th>25</th>\n",
       "      <td>42466 2.54 126.02</td>\n",
       "    </tr>\n",
       "    <tr>\n",
       "      <th>26</th>\n",
       "      <td>42467 5.08 126.02</td>\n",
       "    </tr>\n",
       "    <tr>\n",
       "      <th>27</th>\n",
       "      <td>ITEM: TIMESTEP</td>\n",
       "    </tr>\n",
       "    <tr>\n",
       "      <th>28</th>\n",
       "      <td>20000</td>\n",
       "    </tr>\n",
       "    <tr>\n",
       "      <th>29</th>\n",
       "      <td>ITEM: NUMBER OF ATOMS</td>\n",
       "    </tr>\n",
       "    <tr>\n",
       "      <th>30</th>\n",
       "      <td>5</td>\n",
       "    </tr>\n",
       "    <tr>\n",
       "      <th>31</th>\n",
       "      <td>ITEM: BOX BOUNDS ff fm pp</td>\n",
       "    </tr>\n",
       "    <tr>\n",
       "      <th>32</th>\n",
       "      <td>-4.1000000000000000e+01 4.1000000000000000e+01</td>\n",
       "    </tr>\n",
       "    <tr>\n",
       "      <th>33</th>\n",
       "      <td>0.0000000000000000e+00 2.0000000000000000e+02</td>\n",
       "    </tr>\n",
       "    <tr>\n",
       "      <th>34</th>\n",
       "      <td>-2.5000000000000000e-01 2.5000000000000000e-01</td>\n",
       "    </tr>\n",
       "    <tr>\n",
       "      <th>35</th>\n",
       "      <td>ITEM: ATOMS id x y</td>\n",
       "    </tr>\n",
       "    <tr>\n",
       "      <th>36</th>\n",
       "      <td>42463 -5.08 124.52</td>\n",
       "    </tr>\n",
       "    <tr>\n",
       "      <th>37</th>\n",
       "      <td>42464 -2.54 124.52</td>\n",
       "    </tr>\n",
       "    <tr>\n",
       "      <th>38</th>\n",
       "      <td>42465 -2.44929e-16 124.52</td>\n",
       "    </tr>\n",
       "    <tr>\n",
       "      <th>39</th>\n",
       "      <td>42466 2.54 124.52</td>\n",
       "    </tr>\n",
       "  </tbody>\n",
       "</table>\n",
       "</div>"
      ],
      "text/plain": [
       "                                    ITEM: TIMESTEP\n",
       "0                                                0\n",
       "1                            ITEM: NUMBER OF ATOMS\n",
       "2                                                5\n",
       "3                        ITEM: BOX BOUNDS ff fm pp\n",
       "4   -4.1000000000000000e+01 4.1000000000000000e+01\n",
       "5    0.0000000000000000e+00 2.0000000000000000e+02\n",
       "6   -2.5000000000000000e-01 2.5000000000000000e-01\n",
       "7                              ITEM: ATOMS id x y \n",
       "8                              42463 -5.08 126.52 \n",
       "9                              42464 -2.54 126.52 \n",
       "10                                 42465 0 126.52 \n",
       "11                              42466 2.54 126.52 \n",
       "12                              42467 5.08 126.52 \n",
       "13                                  ITEM: TIMESTEP\n",
       "14                                           10000\n",
       "15                           ITEM: NUMBER OF ATOMS\n",
       "16                                               5\n",
       "17                       ITEM: BOX BOUNDS ff fm pp\n",
       "18  -4.1000000000000000e+01 4.1000000000000000e+01\n",
       "19   0.0000000000000000e+00 2.0000000000000000e+02\n",
       "20  -2.5000000000000000e-01 2.5000000000000000e-01\n",
       "21                             ITEM: ATOMS id x y \n",
       "22                             42463 -5.08 126.02 \n",
       "23                             42464 -2.54 126.02 \n",
       "24                      42465 -6.12323e-17 126.02 \n",
       "25                              42466 2.54 126.02 \n",
       "26                              42467 5.08 126.02 \n",
       "27                                  ITEM: TIMESTEP\n",
       "28                                           20000\n",
       "29                           ITEM: NUMBER OF ATOMS\n",
       "30                                               5\n",
       "31                       ITEM: BOX BOUNDS ff fm pp\n",
       "32  -4.1000000000000000e+01 4.1000000000000000e+01\n",
       "33   0.0000000000000000e+00 2.0000000000000000e+02\n",
       "34  -2.5000000000000000e-01 2.5000000000000000e-01\n",
       "35                             ITEM: ATOMS id x y \n",
       "36                             42463 -5.08 124.52 \n",
       "37                             42464 -2.54 124.52 \n",
       "38                      42465 -2.44929e-16 124.52 \n",
       "39                              42466 2.54 124.52 "
      ]
     },
     "execution_count": 10,
     "metadata": {},
     "output_type": "execute_result"
    }
   ],
   "source": [
    "data.head(40)"
   ]
  },
  {
   "cell_type": "code",
   "execution_count": 11,
   "id": "d90eb24e-9e76-4327-8d77-5d8171997c04",
   "metadata": {},
   "outputs": [
    {
     "data": {
      "text/plain": [
       "(461, 1)"
      ]
     },
     "execution_count": 11,
     "metadata": {},
     "output_type": "execute_result"
    }
   ],
   "source": [
    "data.shape"
   ]
  },
  {
   "cell_type": "code",
   "execution_count": 28,
   "id": "41e0eab8-04b9-4bab-8d0e-1f9ae2e7317c",
   "metadata": {},
   "outputs": [],
   "source": [
    "timeArr = []\n",
    "XCoor1 = []\n",
    "XCoor2 = []\n",
    "XCoor3 = []\n",
    "XCoor4 = []\n",
    "XCoor5 = []\n",
    "YCoor1 = []\n",
    "YCoor2 = []\n",
    "YCoor3 = []\n",
    "YCoor4 = []\n",
    "YCoor5 = []\n",
    "for i in range(0,len(data),14):\n",
    "    allIntruders = [data.iloc[i+8,0].split(\" \"),data.iloc[i+8+1,0].split(\" \"),data.iloc[i+8+2,0].split(\" \"),data.iloc[i+8+3,0].split(\" \"),data.iloc[i+8+4,0].split(\" \")]\n",
    "    for intr in allIntruders:\n",
    "        if int(intr[0])==42463:\n",
    "            pos1 = intr\n",
    "        if int(intr[0])==42464:\n",
    "            pos2 = intr\n",
    "        if int(intr[0])==42465:\n",
    "            pos3 = intr\n",
    "        if int(intr[0])==42466:\n",
    "            pos4 = intr\n",
    "        if int(intr[0])==42467:\n",
    "            pos5 = intr\n",
    "\n",
    "#     pos1 = data.iloc[i+8,0].split(\" \")\n",
    "    XCoor1.append(float(pos1[1]))\n",
    "    YCoor1.append(float(pos1[2]))\n",
    "#     pos2 = data.iloc[i+8+1,0].split(\" \")\n",
    "    XCoor2.append(float(pos2[1]))\n",
    "    YCoor2.append(float(pos2[2]))\n",
    "#     pos3 = data.iloc[i+8+2,0].split(\" \")\n",
    "    XCoor3.append(float(pos3[1]))\n",
    "    YCoor3.append(float(pos3[2]))\n",
    "#     pos4 = data.iloc[i+8+3,0].split(\" \")\n",
    "    XCoor4.append(float(pos4[1]))\n",
    "    YCoor4.append(float(pos4[2]))\n",
    "#     pos5 = data.iloc[i+8+4,0].split(\" \")\n",
    "    XCoor5.append(float(pos5[1]))\n",
    "    YCoor5.append(float(pos5[2]))\n",
    "    timeArr.append(float(data.iloc[i,0])/0.0001)\n",
    "    \n"
   ]
  },
  {
   "cell_type": "code",
   "execution_count": 31,
   "id": "2c406523-774d-46c2-91a0-07e23b569e52",
   "metadata": {},
   "outputs": [
    {
     "data": {
      "image/png": "[encoded data removed]",
      "text/plain": [
       "<Figure size 432x288 with 1 Axes>"
      ]
     },
     "metadata": {
      "needs_background": "light"
     },
     "output_type": "display_data"
    }
   ],
   "source": [
    "# figure_name = plt.figure(figsize=(20,10))\n",
    "plt.plot(timeArr,XCoor1,label=\"Particle 1\")\n",
    "plt.plot(timeArr,XCoor2,label=\"Particle 2\")\n",
    "plt.plot(timeArr,XCoor3,label=\"Particle 3\")\n",
    "plt.plot(timeArr,XCoor4,label=\"Particle 4\")\n",
    "plt.plot(timeArr,XCoor5,label=\"Particle 5\")\n",
    "plt.ylabel(\"X\")\n",
    "plt.xlabel(\"Time\")\n",
    "plt.legend()\n",
    "plt.show()"
   ]
  },
  {
   "cell_type": "code",
   "execution_count": 32,
   "id": "3f89c6f7-b2c5-4dd9-a4c0-e46f4fbd5c3b",
   "metadata": {},
   "outputs": [
    {
     "data": {
      "image/png": "[encoded data removed]",
      "text/plain": [
       "<Figure size 432x288 with 1 Axes>"
      ]
     },
     "metadata": {
      "needs_background": "light"
     },
     "output_type": "display_data"
    }
   ],
   "source": [
    "# figure_name = plt.figure(figsize=(20,10))\n",
    "plt.plot(XCoor1,YCoor1,label=\"Particle 1\")\n",
    "plt.plot(XCoor2,YCoor2,label=\"Particle 2\")\n",
    "plt.plot(XCoor3,YCoor3,label=\"Particle 3\")\n",
    "plt.plot(XCoor4,YCoor4,label=\"Particle 4\")\n",
    "plt.plot(XCoor5,YCoor5,label=\"Particle 5\")\n",
    "plt.xlabel(\"X\")\n",
    "plt.ylabel(\"Y\")\n",
    "plt.legend()\n",
    "plt.show()"
   ]
  },
  {
   "cell_type": "code",
   "execution_count": 33,
   "id": "a0a67b13-ef0d-4304-9326-edfbc9c31304",
   "metadata": {},
   "outputs": [
    {
     "data": {
      "image/png": "[encoded data removed]",
      "text/plain": [
       "<Figure size 432x288 with 1 Axes>"
      ]
     },
     "metadata": {
      "needs_background": "light"
     },
     "output_type": "display_data"
    }
   ],
   "source": [
    "plt.plot(timeArr,YCoor1,label=\"Particle 1\")\n",
    "plt.plot(timeArr,YCoor2,label=\"Particle 2\")\n",
    "plt.plot(timeArr,YCoor3,label=\"Particle 3\")\n",
    "plt.plot(timeArr,YCoor4,label=\"Particle 4\")\n",
    "plt.plot(timeArr,YCoor5,label=\"Particle 5\")\n",
    "plt.ylabel(\"Y\")\n",
    "plt.xlabel(\"Time\")\n",
    "plt.legend()\n",
    "plt.show()"
   ]
  },
  {
   "cell_type": "code",
   "execution_count": null,
   "id": "97294359",
   "metadata": {},
   "outputs": [],
   "source": []
  }
 ],
 "metadata": {
  "kernelspec": {
   "display_name": "Python 3 (ipykernel)",
   "language": "python",
   "name": "python3"
  },
  "language_info": {
   "codemirror_mode": {
    "name": "ipython",
    "version": 3
   },
   "file_extension": ".py",
   "mimetype": "text/x-python",
   "name": "python",
   "nbconvert_exporter": "python",
   "pygments_lexer": "ipython3",
   "version": "3.7.0"
  }
 },
 "nbformat": 4,
 "nbformat_minor": 5
}
