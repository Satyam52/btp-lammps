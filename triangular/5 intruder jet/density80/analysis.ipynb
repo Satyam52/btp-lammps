{
 "cells": [
  {
   "cell_type": "code",
   "execution_count": 1,
   "metadata": {
    "tags": []
   },
   "outputs": [],
   "source": [
    "import pandas as pd\n",
    "import numpy as np\n",
    "import matplotlib.pyplot as plt"
   ]
  },
  {
   "cell_type": "code",
   "execution_count": 2,
   "metadata": {},
   "outputs": [],
   "source": [
    "plt.rcParams[\"font.weight\"] = \"bold\"\n",
    "plt.rcParams[\"axes.labelweight\"] = \"bold\""
   ]
  },
  {
   "cell_type": "code",
   "execution_count": 3,
   "metadata": {
    "jupyter": {
     "outputs_hidden": false
    },
    "pycharm": {
     "name": "#%%\n"
    }
   },
   "outputs": [],
   "source": [
    "X1  = pd.read_csv('dump1.position',header=None)\n",
    "X2  = pd.read_csv('dump2.position',header=None)\n",
    "X3  = pd.read_csv('dump3.position',header=None)\n",
    "X4  = pd.read_csv('dump4.position',header=None)\n",
    "X5  = pd.read_csv('dump5.position',header=None)"
   ]
  },
  {
   "cell_type": "code",
   "execution_count": 4,
   "metadata": {
    "jupyter": {
     "outputs_hidden": false
    },
    "pycharm": {
     "name": "#%%\n"
    }
   },
   "outputs": [
    {
     "data": {
      "text/html": [
       "<div>\n",
       "<style scoped>\n",
       "    .dataframe tbody tr th:only-of-type {\n",
       "        vertical-align: middle;\n",
       "    }\n",
       "\n",
       "    .dataframe tbody tr th {\n",
       "        vertical-align: top;\n",
       "    }\n",
       "\n",
       "    .dataframe thead th {\n",
       "        text-align: right;\n",
       "    }\n",
       "</style>\n",
       "<table border=\"1\" class=\"dataframe\">\n",
       "  <thead>\n",
       "    <tr style=\"text-align: right;\">\n",
       "      <th></th>\n",
       "      <th>0</th>\n",
       "    </tr>\n",
       "  </thead>\n",
       "  <tbody>\n",
       "    <tr>\n",
       "      <th>0</th>\n",
       "      <td>ITEM: TIMESTEP</td>\n",
       "    </tr>\n",
       "    <tr>\n",
       "      <th>1</th>\n",
       "      <td>0</td>\n",
       "    </tr>\n",
       "    <tr>\n",
       "      <th>2</th>\n",
       "      <td>ITEM: NUMBER OF ATOMS</td>\n",
       "    </tr>\n",
       "    <tr>\n",
       "      <th>3</th>\n",
       "      <td>15</td>\n",
       "    </tr>\n",
       "    <tr>\n",
       "      <th>4</th>\n",
       "      <td>ITEM: BOX BOUNDS ff fm pp</td>\n",
       "    </tr>\n",
       "    <tr>\n",
       "      <th>5</th>\n",
       "      <td>-4.1000000000000000e+01 4.1000000000000000e+01</td>\n",
       "    </tr>\n",
       "    <tr>\n",
       "      <th>6</th>\n",
       "      <td>0.0000000000000000e+00 2.0000000000000000e+02</td>\n",
       "    </tr>\n",
       "    <tr>\n",
       "      <th>7</th>\n",
       "      <td>-2.5000000000000000e-01 2.5000000000000000e-01</td>\n",
       "    </tr>\n",
       "    <tr>\n",
       "      <th>8</th>\n",
       "      <td>ITEM: ATOMS id type x y</td>\n",
       "    </tr>\n",
       "    <tr>\n",
       "      <th>9</th>\n",
       "      <td>42464 2 -0.5 140.866</td>\n",
       "    </tr>\n",
       "    <tr>\n",
       "      <th>10</th>\n",
       "      <td>42466 2 -1 141.732</td>\n",
       "    </tr>\n",
       "    <tr>\n",
       "      <th>11</th>\n",
       "      <td>42469 2 -1.5 142.598</td>\n",
       "    </tr>\n",
       "    <tr>\n",
       "      <th>12</th>\n",
       "      <td>42470 2 -0.5 142.598</td>\n",
       "    </tr>\n",
       "    <tr>\n",
       "      <th>13</th>\n",
       "      <td>42473 2 -2 143.464</td>\n",
       "    </tr>\n",
       "    <tr>\n",
       "      <th>14</th>\n",
       "      <td>42474 2 -1 143.464</td>\n",
       "    </tr>\n",
       "    <tr>\n",
       "      <th>15</th>\n",
       "      <td>42463 2 0 140</td>\n",
       "    </tr>\n",
       "    <tr>\n",
       "      <th>16</th>\n",
       "      <td>42465 2 0.5 140.866</td>\n",
       "    </tr>\n",
       "    <tr>\n",
       "      <th>17</th>\n",
       "      <td>42467 2 0 141.732</td>\n",
       "    </tr>\n",
       "    <tr>\n",
       "      <th>18</th>\n",
       "      <td>42468 2 1 141.732</td>\n",
       "    </tr>\n",
       "    <tr>\n",
       "      <th>19</th>\n",
       "      <td>42471 2 0.5 142.598</td>\n",
       "    </tr>\n",
       "    <tr>\n",
       "      <th>20</th>\n",
       "      <td>42472 2 1.5 142.598</td>\n",
       "    </tr>\n",
       "    <tr>\n",
       "      <th>21</th>\n",
       "      <td>42475 2 0 143.464</td>\n",
       "    </tr>\n",
       "    <tr>\n",
       "      <th>22</th>\n",
       "      <td>42476 2 1 143.464</td>\n",
       "    </tr>\n",
       "    <tr>\n",
       "      <th>23</th>\n",
       "      <td>42477 2 2 143.464</td>\n",
       "    </tr>\n",
       "    <tr>\n",
       "      <th>24</th>\n",
       "      <td>ITEM: TIMESTEP</td>\n",
       "    </tr>\n",
       "    <tr>\n",
       "      <th>25</th>\n",
       "      <td>10000</td>\n",
       "    </tr>\n",
       "    <tr>\n",
       "      <th>26</th>\n",
       "      <td>ITEM: NUMBER OF ATOMS</td>\n",
       "    </tr>\n",
       "    <tr>\n",
       "      <th>27</th>\n",
       "      <td>15</td>\n",
       "    </tr>\n",
       "    <tr>\n",
       "      <th>28</th>\n",
       "      <td>ITEM: BOX BOUNDS ff fm pp</td>\n",
       "    </tr>\n",
       "    <tr>\n",
       "      <th>29</th>\n",
       "      <td>-4.1000000000000000e+01 4.1000000000000000e+01</td>\n",
       "    </tr>\n",
       "  </tbody>\n",
       "</table>\n",
       "</div>"
      ],
      "text/plain": [
       "                                                 0\n",
       "0                                   ITEM: TIMESTEP\n",
       "1                                                0\n",
       "2                            ITEM: NUMBER OF ATOMS\n",
       "3                                               15\n",
       "4                        ITEM: BOX BOUNDS ff fm pp\n",
       "5   -4.1000000000000000e+01 4.1000000000000000e+01\n",
       "6    0.0000000000000000e+00 2.0000000000000000e+02\n",
       "7   -2.5000000000000000e-01 2.5000000000000000e-01\n",
       "8                         ITEM: ATOMS id type x y \n",
       "9                            42464 2 -0.5 140.866 \n",
       "10                             42466 2 -1 141.732 \n",
       "11                           42469 2 -1.5 142.598 \n",
       "12                           42470 2 -0.5 142.598 \n",
       "13                             42473 2 -2 143.464 \n",
       "14                             42474 2 -1 143.464 \n",
       "15                                  42463 2 0 140 \n",
       "16                            42465 2 0.5 140.866 \n",
       "17                              42467 2 0 141.732 \n",
       "18                              42468 2 1 141.732 \n",
       "19                            42471 2 0.5 142.598 \n",
       "20                            42472 2 1.5 142.598 \n",
       "21                              42475 2 0 143.464 \n",
       "22                              42476 2 1 143.464 \n",
       "23                              42477 2 2 143.464 \n",
       "24                                  ITEM: TIMESTEP\n",
       "25                                           10000\n",
       "26                           ITEM: NUMBER OF ATOMS\n",
       "27                                              15\n",
       "28                       ITEM: BOX BOUNDS ff fm pp\n",
       "29  -4.1000000000000000e+01 4.1000000000000000e+01"
      ]
     },
     "execution_count": 4,
     "metadata": {},
     "output_type": "execute_result"
    }
   ],
   "source": [
    "X1.head(30)"
   ]
  },
  {
   "cell_type": "code",
   "execution_count": 5,
   "metadata": {
    "jupyter": {
     "outputs_hidden": false
    },
    "pycharm": {
     "name": "#%%\n"
    }
   },
   "outputs": [],
   "source": [
    "atom_id,_,x,y = map(float,X1.iloc[9][0].strip().split())"
   ]
  },
  {
   "cell_type": "code",
   "execution_count": 6,
   "metadata": {
    "jupyter": {
     "outputs_hidden": false
    },
    "pycharm": {
     "name": "#%%\n"
    }
   },
   "outputs": [
    {
     "data": {
      "text/plain": [
       "(42464.0, -0.5, 140.866)"
      ]
     },
     "execution_count": 6,
     "metadata": {},
     "output_type": "execute_result"
    }
   ],
   "source": [
    "atom_id,x,y"
   ]
  },
  {
   "cell_type": "code",
   "execution_count": 7,
   "metadata": {},
   "outputs": [
    {
     "data": {
      "text/plain": [
       "2016"
      ]
     },
     "execution_count": 7,
     "metadata": {},
     "output_type": "execute_result"
    }
   ],
   "source": [
    "X1.shape[0]"
   ]
  },
  {
   "cell_type": "code",
   "execution_count": 8,
   "metadata": {
    "jupyter": {
     "outputs_hidden": false
    },
    "pycharm": {
     "name": "#%%\n"
    }
   },
   "outputs": [],
   "source": [
    "# Creating df\n",
    "df1 = {}\n",
    "df2 = {}\n",
    "df3 = {}\n",
    "df4 = {}\n",
    "df5 = {}\n",
    "for i in range(42463,42538,1):\n",
    "    if 42463<=i<42463+15:\n",
    "        df1[i] = {}\n",
    "    elif 42463+15<=i<42463+30:\n",
    "        df2[i] = {}\n",
    "    elif 42463+30<=i<42463+45:\n",
    "        df3[i] = {}\n",
    "    elif 42463+45<=i<42463+60:\n",
    "        df4[i] = {}\n",
    "    elif 42463+60<=i<42463+75:\n",
    "        df5[i] = {}\n",
    "    \n",
    "for i in range(0,X1.shape[0],24):\n",
    "    time = int(X1.iloc[i+1][0])*(5*10**-6)\n",
    "    for j in range(i+9,i+24):\n",
    "        sphere_id,_,x,y = map(float, X1.iloc[j][0].strip().split())\n",
    "        df1[int(sphere_id)][time] = [x,y]\n",
    "    \n",
    "        sphere_id,_,x,y = map(float, X2.iloc[j][0].strip().split())\n",
    "        df2[int(sphere_id)][time] = [x,y]\n",
    "    \n",
    "        sphere_id,_,x,y = map(float, X3.iloc[j][0].strip().split())\n",
    "        df3[int(sphere_id)][time] = [x,y]\n",
    "    \n",
    "        sphere_id,_,x,y = map(float, X4.iloc[j][0].strip().split())\n",
    "        df4[int(sphere_id)][time] = [x,y]\n",
    "    \n",
    "        sphere_id,_,x,y = map(float, X5.iloc[j][0].strip().split())\n",
    "        df5[int(sphere_id)][time] = [x,y]\n",
    "        \n",
    "data1 = pd.DataFrame(df1)\n",
    "data1.index.name = 'Time'\n",
    "\n",
    "data2 = pd.DataFrame(df2)\n",
    "data2.index.name = 'Time'\n",
    "\n",
    "data3 = pd.DataFrame(df3)\n",
    "data3.index.name = 'Time'\n",
    "\n",
    "data4 = pd.DataFrame(df4)\n",
    "data4.index.name = 'Time'\n",
    "\n",
    "data5 = pd.DataFrame(df5)\n",
    "data5.index.name = 'Time'"
   ]
  },
  {
   "cell_type": "code",
   "execution_count": 9,
   "metadata": {
    "jupyter": {
     "outputs_hidden": false
    },
    "pycharm": {
     "name": "#%%\n"
    }
   },
   "outputs": [
    {
     "data": {
      "text/html": [
       "<div>\n",
       "<style scoped>\n",
       "    .dataframe tbody tr th:only-of-type {\n",
       "        vertical-align: middle;\n",
       "    }\n",
       "\n",
       "    .dataframe tbody tr th {\n",
       "        vertical-align: top;\n",
       "    }\n",
       "\n",
       "    .dataframe thead th {\n",
       "        text-align: right;\n",
       "    }\n",
       "</style>\n",
       "<table border=\"1\" class=\"dataframe\">\n",
       "  <thead>\n",
       "    <tr style=\"text-align: right;\">\n",
       "      <th></th>\n",
       "      <th>42508</th>\n",
       "      <th>42509</th>\n",
       "      <th>42510</th>\n",
       "      <th>42511</th>\n",
       "      <th>42512</th>\n",
       "      <th>42513</th>\n",
       "      <th>42514</th>\n",
       "      <th>42515</th>\n",
       "      <th>42516</th>\n",
       "      <th>42517</th>\n",
       "      <th>42518</th>\n",
       "      <th>42519</th>\n",
       "      <th>42520</th>\n",
       "      <th>42521</th>\n",
       "      <th>42522</th>\n",
       "    </tr>\n",
       "    <tr>\n",
       "      <th>Time</th>\n",
       "      <th></th>\n",
       "      <th></th>\n",
       "      <th></th>\n",
       "      <th></th>\n",
       "      <th></th>\n",
       "      <th></th>\n",
       "      <th></th>\n",
       "      <th></th>\n",
       "      <th></th>\n",
       "      <th></th>\n",
       "      <th></th>\n",
       "      <th></th>\n",
       "      <th></th>\n",
       "      <th></th>\n",
       "      <th></th>\n",
       "    </tr>\n",
       "  </thead>\n",
       "  <tbody>\n",
       "    <tr>\n",
       "      <th>0.00</th>\n",
       "      <td>[0.0, 153.383]</td>\n",
       "      <td>[-0.5, 154.249]</td>\n",
       "      <td>[0.5, 154.249]</td>\n",
       "      <td>[-1.0, 155.115]</td>\n",
       "      <td>[0.0, 155.115]</td>\n",
       "      <td>[1.0, 155.115]</td>\n",
       "      <td>[-1.5, 155.981]</td>\n",
       "      <td>[-0.5, 155.981]</td>\n",
       "      <td>[0.5, 155.981]</td>\n",
       "      <td>[1.5, 155.981]</td>\n",
       "      <td>[-2.0, 156.847]</td>\n",
       "      <td>[-1.0, 156.847]</td>\n",
       "      <td>[0.0, 156.847]</td>\n",
       "      <td>[1.0, 156.847]</td>\n",
       "      <td>[2.0, 156.847]</td>\n",
       "    </tr>\n",
       "    <tr>\n",
       "      <th>0.05</th>\n",
       "      <td>[-1.73672e-17, 153.263]</td>\n",
       "      <td>[-0.5, 154.129]</td>\n",
       "      <td>[0.5, 154.129]</td>\n",
       "      <td>[-1.0, 154.995]</td>\n",
       "      <td>[-1.64697e-17, 154.995]</td>\n",
       "      <td>[1.0, 154.995]</td>\n",
       "      <td>[-1.5, 155.861]</td>\n",
       "      <td>[-0.5, 155.861]</td>\n",
       "      <td>[0.5, 155.861]</td>\n",
       "      <td>[1.5, 155.861]</td>\n",
       "      <td>[-2.0, 156.727]</td>\n",
       "      <td>[-1.0, 156.727]</td>\n",
       "      <td>[-1.55722e-17, 156.727]</td>\n",
       "      <td>[1.0, 156.727]</td>\n",
       "      <td>[2.0, 156.727]</td>\n",
       "    </tr>\n",
       "    <tr>\n",
       "      <th>0.10</th>\n",
       "      <td>[-7.12671e-17, 152.896]</td>\n",
       "      <td>[-0.5, 153.762]</td>\n",
       "      <td>[0.5, 153.762]</td>\n",
       "      <td>[-1.0, 154.628]</td>\n",
       "      <td>[-6.54137e-17, 154.628]</td>\n",
       "      <td>[1.0, 154.628]</td>\n",
       "      <td>[-1.5, 155.494]</td>\n",
       "      <td>[-0.5, 155.494]</td>\n",
       "      <td>[0.5, 155.494]</td>\n",
       "      <td>[1.5, 155.494]</td>\n",
       "      <td>[-2.0, 156.36]</td>\n",
       "      <td>[-1.0, 156.36]</td>\n",
       "      <td>[-5.95602e-17, 156.36]</td>\n",
       "      <td>[1.0, 156.36]</td>\n",
       "      <td>[2.0, 156.36]</td>\n",
       "    </tr>\n",
       "    <tr>\n",
       "      <th>0.15</th>\n",
       "      <td>[-1.84942e-16, 152.279]</td>\n",
       "      <td>[-0.5, 153.145]</td>\n",
       "      <td>[0.5, 153.145]</td>\n",
       "      <td>[-1.0, 154.011]</td>\n",
       "      <td>[-1.52264e-16, 154.011]</td>\n",
       "      <td>[1.0, 154.011]</td>\n",
       "      <td>[-1.5, 154.877]</td>\n",
       "      <td>[-0.5, 154.877]</td>\n",
       "      <td>[0.5, 154.877]</td>\n",
       "      <td>[1.5, 154.877]</td>\n",
       "      <td>[-2.0, 155.743]</td>\n",
       "      <td>[-1.0, 155.743]</td>\n",
       "      <td>[-1.19586e-16, 155.743]</td>\n",
       "      <td>[1.0, 155.743]</td>\n",
       "      <td>[2.0, 155.743]</td>\n",
       "    </tr>\n",
       "    <tr>\n",
       "      <th>0.20</th>\n",
       "      <td>[-3.30667e-16, 151.412]</td>\n",
       "      <td>[-0.5, 152.278]</td>\n",
       "      <td>[0.5, 152.278]</td>\n",
       "      <td>[-1.0, 153.144]</td>\n",
       "      <td>[-2.7009e-16, 153.144]</td>\n",
       "      <td>[1.0, 153.144]</td>\n",
       "      <td>[-1.5, 154.01]</td>\n",
       "      <td>[-0.5, 154.01]</td>\n",
       "      <td>[0.5, 154.01]</td>\n",
       "      <td>[1.5, 154.01]</td>\n",
       "      <td>[-2.0, 154.876]</td>\n",
       "      <td>[-1.0, 154.876]</td>\n",
       "      <td>[-2.09513e-16, 154.876]</td>\n",
       "      <td>[1.0, 154.876]</td>\n",
       "      <td>[2.0, 154.876]</td>\n",
       "    </tr>\n",
       "    <tr>\n",
       "      <th>...</th>\n",
       "      <td>...</td>\n",
       "      <td>...</td>\n",
       "      <td>...</td>\n",
       "      <td>...</td>\n",
       "      <td>...</td>\n",
       "      <td>...</td>\n",
       "      <td>...</td>\n",
       "      <td>...</td>\n",
       "      <td>...</td>\n",
       "      <td>...</td>\n",
       "      <td>...</td>\n",
       "      <td>...</td>\n",
       "      <td>...</td>\n",
       "      <td>...</td>\n",
       "      <td>...</td>\n",
       "    </tr>\n",
       "    <tr>\n",
       "      <th>3.95</th>\n",
       "      <td>[-8.34943, 7.20936]</td>\n",
       "      <td>[-8.0203, 8.15362]</td>\n",
       "      <td>[-7.3671, 7.39643]</td>\n",
       "      <td>[-7.69116, 9.09788]</td>\n",
       "      <td>[-7.03797, 8.34069]</td>\n",
       "      <td>[-6.38478, 7.5835]</td>\n",
       "      <td>[-7.36203, 10.0421]</td>\n",
       "      <td>[-6.70884, 9.28495]</td>\n",
       "      <td>[-6.05565, 8.52776]</td>\n",
       "      <td>[-5.40245, 7.77057]</td>\n",
       "      <td>[-7.03289, 10.9864]</td>\n",
       "      <td>[-6.3797, 10.2292]</td>\n",
       "      <td>[-5.72651, 9.47202]</td>\n",
       "      <td>[-5.07332, 8.71483]</td>\n",
       "      <td>[-4.42013, 7.95763]</td>\n",
       "    </tr>\n",
       "    <tr>\n",
       "      <th>4.00</th>\n",
       "      <td>[-8.34699, 7.21037]</td>\n",
       "      <td>[-8.01781, 8.15461]</td>\n",
       "      <td>[-7.36465, 7.39739]</td>\n",
       "      <td>[-7.68864, 9.09886]</td>\n",
       "      <td>[-7.03548, 8.34164]</td>\n",
       "      <td>[-6.38232, 7.58442]</td>\n",
       "      <td>[-7.35947, 10.0431]</td>\n",
       "      <td>[-6.70631, 9.28589]</td>\n",
       "      <td>[-6.05315, 8.52866]</td>\n",
       "      <td>[-5.39999, 7.77144]</td>\n",
       "      <td>[-7.03029, 10.9874]</td>\n",
       "      <td>[-6.37713, 10.2301]</td>\n",
       "      <td>[-5.72397, 9.47291]</td>\n",
       "      <td>[-5.07082, 8.71569]</td>\n",
       "      <td>[-4.41766, 7.95847]</td>\n",
       "    </tr>\n",
       "    <tr>\n",
       "      <th>4.05</th>\n",
       "      <td>[-8.3499, 7.21057]</td>\n",
       "      <td>[-8.02084, 8.15486]</td>\n",
       "      <td>[-7.36759, 7.39772]</td>\n",
       "      <td>[-7.69179, 9.09914]</td>\n",
       "      <td>[-7.03853, 8.342]</td>\n",
       "      <td>[-6.38528, 7.58486]</td>\n",
       "      <td>[-7.36273, 10.0434]</td>\n",
       "      <td>[-6.70948, 9.28629]</td>\n",
       "      <td>[-6.05622, 8.52915]</td>\n",
       "      <td>[-5.40297, 7.77201]</td>\n",
       "      <td>[-7.03367, 10.9877]</td>\n",
       "      <td>[-6.38042, 10.2306]</td>\n",
       "      <td>[-5.72717, 9.47344]</td>\n",
       "      <td>[-5.07392, 8.7163]</td>\n",
       "      <td>[-4.42066, 7.95916]</td>\n",
       "    </tr>\n",
       "    <tr>\n",
       "      <th>4.10</th>\n",
       "      <td>[-8.34862, 7.21042]</td>\n",
       "      <td>[-8.01937, 8.15464]</td>\n",
       "      <td>[-7.36627, 7.39737]</td>\n",
       "      <td>[-7.69012, 9.09886]</td>\n",
       "      <td>[-7.03702, 8.34159]</td>\n",
       "      <td>[-6.38392, 7.58432]</td>\n",
       "      <td>[-7.36087, 10.0431]</td>\n",
       "      <td>[-6.70777, 9.28581]</td>\n",
       "      <td>[-6.05467, 8.52854]</td>\n",
       "      <td>[-5.40157, 7.77127]</td>\n",
       "      <td>[-7.03162, 10.9873]</td>\n",
       "      <td>[-6.37852, 10.23]</td>\n",
       "      <td>[-5.72542, 9.47276]</td>\n",
       "      <td>[-5.07233, 8.71549]</td>\n",
       "      <td>[-4.41923, 7.95821]</td>\n",
       "    </tr>\n",
       "    <tr>\n",
       "      <th>4.15</th>\n",
       "      <td>[-8.34797, 7.21024]</td>\n",
       "      <td>[-8.01893, 8.15453]</td>\n",
       "      <td>[-7.36566, 7.3974]</td>\n",
       "      <td>[-7.68988, 9.09882]</td>\n",
       "      <td>[-7.03662, 8.3417]</td>\n",
       "      <td>[-6.38335, 7.58457]</td>\n",
       "      <td>[-7.36084, 10.0431]</td>\n",
       "      <td>[-6.70758, 9.28599]</td>\n",
       "      <td>[-6.05431, 8.52886]</td>\n",
       "      <td>[-5.40105, 7.77173]</td>\n",
       "      <td>[-7.0318, 10.9874]</td>\n",
       "      <td>[-6.37854, 10.2303]</td>\n",
       "      <td>[-5.72527, 9.47315]</td>\n",
       "      <td>[-5.07201, 8.71602]</td>\n",
       "      <td>[-4.41874, 7.95889]</td>\n",
       "    </tr>\n",
       "  </tbody>\n",
       "</table>\n",
       "<p>84 rows × 15 columns</p>\n",
       "</div>"
      ],
      "text/plain": [
       "                        42508                42509                42510  \\\n",
       "Time                                                                      \n",
       "0.00           [0.0, 153.383]      [-0.5, 154.249]       [0.5, 154.249]   \n",
       "0.05  [-1.73672e-17, 153.263]      [-0.5, 154.129]       [0.5, 154.129]   \n",
       "0.10  [-7.12671e-17, 152.896]      [-0.5, 153.762]       [0.5, 153.762]   \n",
       "0.15  [-1.84942e-16, 152.279]      [-0.5, 153.145]       [0.5, 153.145]   \n",
       "0.20  [-3.30667e-16, 151.412]      [-0.5, 152.278]       [0.5, 152.278]   \n",
       "...                       ...                  ...                  ...   \n",
       "3.95      [-8.34943, 7.20936]   [-8.0203, 8.15362]   [-7.3671, 7.39643]   \n",
       "4.00      [-8.34699, 7.21037]  [-8.01781, 8.15461]  [-7.36465, 7.39739]   \n",
       "4.05       [-8.3499, 7.21057]  [-8.02084, 8.15486]  [-7.36759, 7.39772]   \n",
       "4.10      [-8.34862, 7.21042]  [-8.01937, 8.15464]  [-7.36627, 7.39737]   \n",
       "4.15      [-8.34797, 7.21024]  [-8.01893, 8.15453]   [-7.36566, 7.3974]   \n",
       "\n",
       "                    42511                    42512                42513  \\\n",
       "Time                                                                      \n",
       "0.00      [-1.0, 155.115]           [0.0, 155.115]       [1.0, 155.115]   \n",
       "0.05      [-1.0, 154.995]  [-1.64697e-17, 154.995]       [1.0, 154.995]   \n",
       "0.10      [-1.0, 154.628]  [-6.54137e-17, 154.628]       [1.0, 154.628]   \n",
       "0.15      [-1.0, 154.011]  [-1.52264e-16, 154.011]       [1.0, 154.011]   \n",
       "0.20      [-1.0, 153.144]   [-2.7009e-16, 153.144]       [1.0, 153.144]   \n",
       "...                   ...                      ...                  ...   \n",
       "3.95  [-7.69116, 9.09788]      [-7.03797, 8.34069]   [-6.38478, 7.5835]   \n",
       "4.00  [-7.68864, 9.09886]      [-7.03548, 8.34164]  [-6.38232, 7.58442]   \n",
       "4.05  [-7.69179, 9.09914]        [-7.03853, 8.342]  [-6.38528, 7.58486]   \n",
       "4.10  [-7.69012, 9.09886]      [-7.03702, 8.34159]  [-6.38392, 7.58432]   \n",
       "4.15  [-7.68988, 9.09882]       [-7.03662, 8.3417]  [-6.38335, 7.58457]   \n",
       "\n",
       "                    42514                42515                42516  \\\n",
       "Time                                                                  \n",
       "0.00      [-1.5, 155.981]      [-0.5, 155.981]       [0.5, 155.981]   \n",
       "0.05      [-1.5, 155.861]      [-0.5, 155.861]       [0.5, 155.861]   \n",
       "0.10      [-1.5, 155.494]      [-0.5, 155.494]       [0.5, 155.494]   \n",
       "0.15      [-1.5, 154.877]      [-0.5, 154.877]       [0.5, 154.877]   \n",
       "0.20       [-1.5, 154.01]       [-0.5, 154.01]        [0.5, 154.01]   \n",
       "...                   ...                  ...                  ...   \n",
       "3.95  [-7.36203, 10.0421]  [-6.70884, 9.28495]  [-6.05565, 8.52776]   \n",
       "4.00  [-7.35947, 10.0431]  [-6.70631, 9.28589]  [-6.05315, 8.52866]   \n",
       "4.05  [-7.36273, 10.0434]  [-6.70948, 9.28629]  [-6.05622, 8.52915]   \n",
       "4.10  [-7.36087, 10.0431]  [-6.70777, 9.28581]  [-6.05467, 8.52854]   \n",
       "4.15  [-7.36084, 10.0431]  [-6.70758, 9.28599]  [-6.05431, 8.52886]   \n",
       "\n",
       "                    42517                42518                42519  \\\n",
       "Time                                                                  \n",
       "0.00       [1.5, 155.981]      [-2.0, 156.847]      [-1.0, 156.847]   \n",
       "0.05       [1.5, 155.861]      [-2.0, 156.727]      [-1.0, 156.727]   \n",
       "0.10       [1.5, 155.494]       [-2.0, 156.36]       [-1.0, 156.36]   \n",
       "0.15       [1.5, 154.877]      [-2.0, 155.743]      [-1.0, 155.743]   \n",
       "0.20        [1.5, 154.01]      [-2.0, 154.876]      [-1.0, 154.876]   \n",
       "...                   ...                  ...                  ...   \n",
       "3.95  [-5.40245, 7.77057]  [-7.03289, 10.9864]   [-6.3797, 10.2292]   \n",
       "4.00  [-5.39999, 7.77144]  [-7.03029, 10.9874]  [-6.37713, 10.2301]   \n",
       "4.05  [-5.40297, 7.77201]  [-7.03367, 10.9877]  [-6.38042, 10.2306]   \n",
       "4.10  [-5.40157, 7.77127]  [-7.03162, 10.9873]    [-6.37852, 10.23]   \n",
       "4.15  [-5.40105, 7.77173]   [-7.0318, 10.9874]  [-6.37854, 10.2303]   \n",
       "\n",
       "                        42520                42521                42522  \n",
       "Time                                                                     \n",
       "0.00           [0.0, 156.847]       [1.0, 156.847]       [2.0, 156.847]  \n",
       "0.05  [-1.55722e-17, 156.727]       [1.0, 156.727]       [2.0, 156.727]  \n",
       "0.10   [-5.95602e-17, 156.36]        [1.0, 156.36]        [2.0, 156.36]  \n",
       "0.15  [-1.19586e-16, 155.743]       [1.0, 155.743]       [2.0, 155.743]  \n",
       "0.20  [-2.09513e-16, 154.876]       [1.0, 154.876]       [2.0, 154.876]  \n",
       "...                       ...                  ...                  ...  \n",
       "3.95      [-5.72651, 9.47202]  [-5.07332, 8.71483]  [-4.42013, 7.95763]  \n",
       "4.00      [-5.72397, 9.47291]  [-5.07082, 8.71569]  [-4.41766, 7.95847]  \n",
       "4.05      [-5.72717, 9.47344]   [-5.07392, 8.7163]  [-4.42066, 7.95916]  \n",
       "4.10      [-5.72542, 9.47276]  [-5.07233, 8.71549]  [-4.41923, 7.95821]  \n",
       "4.15      [-5.72527, 9.47315]  [-5.07201, 8.71602]  [-4.41874, 7.95889]  \n",
       "\n",
       "[84 rows x 15 columns]"
      ]
     },
     "execution_count": 9,
     "metadata": {},
     "output_type": "execute_result"
    }
   ],
   "source": [
    "data4"
   ]
  },
  {
   "cell_type": "code",
   "execution_count": 10,
   "metadata": {
    "jupyter": {
     "outputs_hidden": false
    },
    "pycharm": {
     "name": "#%%\n"
    }
   },
   "outputs": [],
   "source": [
    "time_Arr = []\n",
    "x_Arr1 = []\n",
    "y_Arr1 = []\n",
    "\n",
    "x_Arr2 = []\n",
    "y_Arr2 = []\n",
    "\n",
    "x_Arr3 = []\n",
    "y_Arr3 = []\n",
    "\n",
    "x_Arr4 = []\n",
    "y_Arr4 = []\n",
    "\n",
    "x_Arr5 = []\n",
    "y_Arr5 = []\n",
    "for i in data1.index:\n",
    "    instance1  = data1.loc[i]\n",
    "    instance2  = data2.loc[i]\n",
    "    instance3  = data3.loc[i]\n",
    "    instance4  = data4.loc[i]\n",
    "    instance5  = data5.loc[i]\n",
    "    time_Arr.append(i)\n",
    "    \n",
    "    center_x = (instance1[42463][0]+instance1[42473][0]+instance1[42477][0])/3\n",
    "    x_Arr1.append(center_x)\n",
    "    center_y = (instance1[42463][1]+instance1[42473][1]+instance1[42477][1])/3\n",
    "    y_Arr1.append(center_y)\n",
    "    \n",
    "    center_x = (instance2[42463+15][0]+instance2[42473+15][0]+instance2[42477+15][0])/3\n",
    "    x_Arr2.append(center_x)\n",
    "    center_y = (instance2[42463+15][1]+instance2[42473+15][1]+instance2[42477+15][1])/3\n",
    "    y_Arr2.append(center_y)\n",
    "    \n",
    "    center_x = (instance3[42463+30][0]+instance3[42473+30][0]+instance3[42477+30][0])/3\n",
    "    x_Arr3.append(center_x)\n",
    "    center_y = (instance3[42463+30][1]+instance3[42473+30][1]+instance3[42477+30][1])/3\n",
    "    y_Arr3.append(center_y)\n",
    "    \n",
    "    center_x = (instance4[42463+45][0]+instance4[42473+45][0]+instance4[42477+45][0])/3\n",
    "    x_Arr4.append(center_x)\n",
    "    center_y = (instance4[42463+45][1]+instance4[42473+45][1]+instance4[42477+45][1])/3\n",
    "    y_Arr4.append(center_y)\n",
    "    \n",
    "    center_x = (instance5[42463+60][0]+instance5[42473+60][0]+instance5[42477+60][0])/3\n",
    "    x_Arr5.append(center_x)\n",
    "    center_y = (instance5[42463+60][1]+instance5[42473+60][1]+instance5[42477+60][1])/3\n",
    "    y_Arr5.append(center_y)\n",
    "\n",
    "\n",
    "centroid_df1 =pd.DataFrame({\"time\":time_Arr,\"x\":x_Arr1,\"y\":y_Arr1})\n",
    "centroid_df2 =pd.DataFrame({\"time\":time_Arr,\"x\":x_Arr2,\"y\":y_Arr2})\n",
    "centroid_df3 =pd.DataFrame({\"time\":time_Arr,\"x\":x_Arr3,\"y\":y_Arr3})\n",
    "centroid_df4 =pd.DataFrame({\"time\":time_Arr,\"x\":x_Arr4,\"y\":y_Arr4})\n",
    "centroid_df5 =pd.DataFrame({\"time\":time_Arr,\"x\":x_Arr5,\"y\":y_Arr5})"
   ]
  },
  {
   "cell_type": "code",
   "execution_count": 11,
   "metadata": {
    "jupyter": {
     "outputs_hidden": false
    },
    "pycharm": {
     "name": "#%%\n"
    }
   },
   "outputs": [
    {
     "data": {
      "text/html": [
       "<div>\n",
       "<style scoped>\n",
       "    .dataframe tbody tr th:only-of-type {\n",
       "        vertical-align: middle;\n",
       "    }\n",
       "\n",
       "    .dataframe tbody tr th {\n",
       "        vertical-align: top;\n",
       "    }\n",
       "\n",
       "    .dataframe thead th {\n",
       "        text-align: right;\n",
       "    }\n",
       "</style>\n",
       "<table border=\"1\" class=\"dataframe\">\n",
       "  <thead>\n",
       "    <tr style=\"text-align: right;\">\n",
       "      <th></th>\n",
       "      <th>time</th>\n",
       "      <th>x</th>\n",
       "      <th>y</th>\n",
       "    </tr>\n",
       "  </thead>\n",
       "  <tbody>\n",
       "    <tr>\n",
       "      <th>0</th>\n",
       "      <td>0.00</td>\n",
       "      <td>0.000000e+00</td>\n",
       "      <td>160.153333</td>\n",
       "    </tr>\n",
       "    <tr>\n",
       "      <th>1</th>\n",
       "      <td>0.05</td>\n",
       "      <td>0.000000e+00</td>\n",
       "      <td>160.037333</td>\n",
       "    </tr>\n",
       "    <tr>\n",
       "      <th>2</th>\n",
       "      <td>0.10</td>\n",
       "      <td>0.000000e+00</td>\n",
       "      <td>159.674333</td>\n",
       "    </tr>\n",
       "    <tr>\n",
       "      <th>3</th>\n",
       "      <td>0.15</td>\n",
       "      <td>0.000000e+00</td>\n",
       "      <td>159.060333</td>\n",
       "    </tr>\n",
       "    <tr>\n",
       "      <th>4</th>\n",
       "      <td>0.20</td>\n",
       "      <td>-1.480297e-16</td>\n",
       "      <td>158.196333</td>\n",
       "    </tr>\n",
       "    <tr>\n",
       "      <th>...</th>\n",
       "      <td>...</td>\n",
       "      <td>...</td>\n",
       "      <td>...</td>\n",
       "    </tr>\n",
       "    <tr>\n",
       "      <th>79</th>\n",
       "      <td>3.95</td>\n",
       "      <td>-4.469877e-01</td>\n",
       "      <td>9.818867</td>\n",
       "    </tr>\n",
       "    <tr>\n",
       "      <th>80</th>\n",
       "      <td>4.00</td>\n",
       "      <td>-4.442883e-01</td>\n",
       "      <td>9.819227</td>\n",
       "    </tr>\n",
       "    <tr>\n",
       "      <th>81</th>\n",
       "      <td>4.05</td>\n",
       "      <td>-4.473180e-01</td>\n",
       "      <td>9.820673</td>\n",
       "    </tr>\n",
       "    <tr>\n",
       "      <th>82</th>\n",
       "      <td>4.10</td>\n",
       "      <td>-4.460157e-01</td>\n",
       "      <td>9.819153</td>\n",
       "    </tr>\n",
       "    <tr>\n",
       "      <th>83</th>\n",
       "      <td>4.15</td>\n",
       "      <td>-4.454043e-01</td>\n",
       "      <td>9.820047</td>\n",
       "    </tr>\n",
       "  </tbody>\n",
       "</table>\n",
       "<p>84 rows × 3 columns</p>\n",
       "</div>"
      ],
      "text/plain": [
       "    time             x           y\n",
       "0   0.00  0.000000e+00  160.153333\n",
       "1   0.05  0.000000e+00  160.037333\n",
       "2   0.10  0.000000e+00  159.674333\n",
       "3   0.15  0.000000e+00  159.060333\n",
       "4   0.20 -1.480297e-16  158.196333\n",
       "..   ...           ...         ...\n",
       "79  3.95 -4.469877e-01    9.818867\n",
       "80  4.00 -4.442883e-01    9.819227\n",
       "81  4.05 -4.473180e-01    9.820673\n",
       "82  4.10 -4.460157e-01    9.819153\n",
       "83  4.15 -4.454043e-01    9.820047\n",
       "\n",
       "[84 rows x 3 columns]"
      ]
     },
     "execution_count": 11,
     "metadata": {},
     "output_type": "execute_result"
    }
   ],
   "source": [
    "centroid_df5"
   ]
  },
  {
   "cell_type": "code",
   "execution_count": 12,
   "metadata": {
    "jupyter": {
     "outputs_hidden": false
    },
    "pycharm": {
     "name": "#%%\n"
    }
   },
   "outputs": [
    {
     "data": {
      "image/png": "[encoded data removed]",
      "text/plain": [
       "<Figure size 432x288 with 1 Axes>"
      ]
     },
     "metadata": {
      "needs_background": "light"
     },
     "output_type": "display_data"
    }
   ],
   "source": [
    "# y Vs x\n",
    "# plt.figure(figsize=(10,5),dpi=400)\n",
    "plt.plot(x_Arr1,y_Arr1,label='intruder1',color='blue')\n",
    "plt.plot(x_Arr2,y_Arr2,label='intruder2',color='gold')\n",
    "plt.plot(x_Arr3,y_Arr3,label='intruder3',color='deeppink')\n",
    "plt.plot(x_Arr4,y_Arr4,label='intruder4',color='green')\n",
    "plt.plot(x_Arr5,y_Arr5,label='intruder5',color='darkseagreen')\n",
    "plt.ylabel('Y')\n",
    "plt.xlabel('X')\n",
    "plt.legend()\n",
    "plt.title('Center of mass of intruders')\n",
    "plt.savefig('intruder y Vs x.svg',bbox_inches='tight')\n",
    "plt.show()"
   ]
  },
  {
   "cell_type": "code",
   "execution_count": 13,
   "metadata": {
    "jupyter": {
     "outputs_hidden": false
    },
    "pycharm": {
     "name": "#%%\n"
    }
   },
   "outputs": [
    {
     "data": {
      "image/png": "[encoded data removed]",
      "text/plain": [
       "<Figure size 432x288 with 1 Axes>"
      ]
     },
     "metadata": {
      "needs_background": "light"
     },
     "output_type": "display_data"
    }
   ],
   "source": [
    "# x Vs y\n",
    "# plt.figure(figsize=(10,5),dpi=400)\n",
    "plt.gca().invert_xaxis()\n",
    "plt.plot(y_Arr1,x_Arr1,label='intruder1',color='blue')\n",
    "plt.plot(y_Arr2,x_Arr2,label='intruder2',color='gold')\n",
    "plt.plot(y_Arr3,x_Arr3,label='intruder3',color='deeppink')\n",
    "plt.plot(y_Arr4,x_Arr4,label='intruder4',color='green')\n",
    "plt.plot(y_Arr5,x_Arr5,label='intruder5',color='darkseagreen')\n",
    "plt.xlabel('Y')\n",
    "plt.ylabel('X')\n",
    "plt.legend()\n",
    "plt.title('Center of mass of intruders')\n",
    "plt.savefig('intruder x Vs y.svg',bbox_inches='tight')\n",
    "plt.show()"
   ]
  },
  {
   "cell_type": "code",
   "execution_count": 14,
   "metadata": {
    "jupyter": {
     "outputs_hidden": false
    },
    "pycharm": {
     "name": "#%%\n"
    }
   },
   "outputs": [
    {
     "data": {
      "image/png": "[encoded data removed]",
      "text/plain": [
       "<Figure size 432x288 with 1 Axes>"
      ]
     },
     "metadata": {
      "needs_background": "light"
     },
     "output_type": "display_data"
    }
   ],
   "source": [
    "# y Vs time\n",
    "# plt.figure(figsize=(10,5),dpi=400)\n",
    "plt.plot(time_Arr,y_Arr1,label='intruder1',color='blue')\n",
    "plt.plot(time_Arr,y_Arr2,label='intruder2',color='gold')\n",
    "plt.plot(time_Arr,y_Arr3,label='intruder3',color='deeppink')\n",
    "plt.plot(time_Arr,y_Arr4,label='intruder4',color='green')\n",
    "plt.plot(time_Arr,y_Arr5,label='intruder5',color='darkseagreen')\n",
    "plt.xlabel('time')\n",
    "plt.ylabel('Y')\n",
    "plt.legend()\n",
    "plt.title('Center of mass of intruder')\n",
    "plt.savefig('intruder y Vs time.svg',bbox_inches='tight')\n",
    "plt.show()"
   ]
  },
  {
   "cell_type": "code",
   "execution_count": 15,
   "metadata": {
    "jupyter": {
     "outputs_hidden": false
    },
    "pycharm": {
     "name": "#%%\n"
    }
   },
   "outputs": [
    {
     "data": {
      "image/png": "[encoded data removed]",
      "text/plain": [
       "<Figure size 432x288 with 1 Axes>"
      ]
     },
     "metadata": {
      "needs_background": "light"
     },
     "output_type": "display_data"
    }
   ],
   "source": [
    "# x Vs time\n",
    "# plt.figure(figsize=(10,5),dpi=400)\n",
    "plt.plot(time_Arr,x_Arr1,label='intruder1',color='blue')\n",
    "plt.plot(time_Arr,x_Arr2,label='intruder2',color='gold')\n",
    "plt.plot(time_Arr,x_Arr3,label='intruder3',color='deeppink')\n",
    "plt.plot(time_Arr,x_Arr4,label='intruder4',color='green')\n",
    "plt.plot(time_Arr,x_Arr5,label='intruder5',color='darkseagreen')\n",
    "plt.xlabel('time')\n",
    "plt.ylabel('X')\n",
    "plt.legend()\n",
    "plt.title('Center of mass of intruder')\n",
    "plt.savefig('intruder x Vs time.svg',bbox_inches='tight')\n",
    "plt.show()"
   ]
  },
  {
   "cell_type": "markdown",
   "metadata": {},
   "source": [
    "## For Orientataion"
   ]
  },
  {
   "cell_type": "code",
   "execution_count": 16,
   "metadata": {},
   "outputs": [],
   "source": [
    "orientation1 = []\n",
    "orientation2 = []\n",
    "orientation3 = []\n",
    "orientation4 = []\n",
    "orientation5 = []\n",
    "for i in data1.index:\n",
    "    instance1  = data1.loc[i]\n",
    "    instance2  = data2.loc[i]\n",
    "    instance3  = data3.loc[i]\n",
    "    instance4  = data4.loc[i]\n",
    "    instance5  = data5.loc[i]\n",
    "    dely = (instance1[42477][1]-instance1[42473][1])\n",
    "    delx = (instance1[42477][0]-instance1[42473][0])\n",
    "    theta = np.arctan2(dely,delx)*180/np.pi\n",
    "    orientation1.append(theta)\n",
    "    \n",
    "    dely = (instance2[42492][1]-instance2[42488][1])\n",
    "    delx = (instance2[42492][0]-instance2[42488][0])\n",
    "    theta = np.arctan2(dely,delx)*180/np.pi\n",
    "    orientation2.append(theta)\n",
    "    \n",
    "    dely = (instance3[42507][1]-instance3[42503][1])\n",
    "    delx = (instance3[42507][0]-instance3[42503][0])\n",
    "    theta = np.arctan2(dely,delx)*180/np.pi\n",
    "    orientation3.append(theta)\n",
    "    \n",
    "    dely = (instance4[42522][1]-instance4[42518][1])\n",
    "    delx = (instance4[42522][0]-instance4[42518][0])\n",
    "    theta = np.arctan2(dely,delx)*180/np.pi\n",
    "    orientation4.append(theta)\n",
    "    \n",
    "    dely = (instance5[42537][1]-instance5[42533][1])\n",
    "    delx = (instance5[42537][0]-instance5[42533][0])\n",
    "    theta = np.arctan2(dely,delx)*180/np.pi\n",
    "    orientation5.append(theta)\n",
    "    "
   ]
  },
  {
   "cell_type": "code",
   "execution_count": 17,
   "metadata": {},
   "outputs": [
    {
     "data": {
      "image/png": "[encoded data removed]",
      "text/plain": [
       "<Figure size 432x288 with 1 Axes>"
      ]
     },
     "metadata": {
      "needs_background": "light"
     },
     "output_type": "display_data"
    }
   ],
   "source": [
    "# theta Vs time\n",
    "# plt.figure(figsize=(10,5),dpi=400)\n",
    "plt.plot(time_Arr,orientation1,label='intruder1',color='blue')\n",
    "plt.plot(time_Arr,orientation2,label='intruder2',color='gold')\n",
    "plt.plot(time_Arr,orientation3,label='intruder3',color='deeppink')\n",
    "plt.plot(time_Arr,orientation4,label='intruder4',color='green')\n",
    "plt.plot(time_Arr,orientation5,label='intruder5',color='darkseagreen')\n",
    "plt.xlabel('time')\n",
    "plt.ylabel('theta (degree)')\n",
    "plt.title('Orientation of intruders')\n",
    "plt.legend()\n",
    "plt.savefig('orientation.svg',bbox_inches='tight')\n",
    "plt.show()"
   ]
  },
  {
   "cell_type": "code",
   "execution_count": null,
   "metadata": {},
   "outputs": [],
   "source": []
  },
  {
   "cell_type": "code",
   "execution_count": null,
   "metadata": {},
   "outputs": [],
   "source": []
  }
 ],
 "metadata": {
  "kernelspec": {
   "display_name": "Python 3 (ipykernel)",
   "language": "python",
   "name": "python3"
  },
  "language_info": {
   "codemirror_mode": {
    "name": "ipython",
    "version": 3
   },
   "file_extension": ".py",
   "mimetype": "text/x-python",
   "name": "python",
   "nbconvert_exporter": "python",
   "pygments_lexer": "ipython3",
   "version": "3.7.0"
  }
 },
 "nbformat": 4,
 "nbformat_minor": 4
}
