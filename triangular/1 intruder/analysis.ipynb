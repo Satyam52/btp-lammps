{
 "cells": [
  {
   "cell_type": "code",
   "execution_count": 1,
   "metadata": {
    "tags": []
   },
   "outputs": [],
   "source": [
    "import pandas as pd\n",
    "import numpy as np\n",
    "import matplotlib.pyplot as plt"
   ]
  },
  {
   "cell_type": "code",
   "execution_count": 2,
   "metadata": {
    "jupyter": {
     "outputs_hidden": false
    },
    "pycharm": {
     "name": "#%%\n"
    }
   },
   "outputs": [],
   "source": [
    "X  = pd.read_csv('dump.position',header=None)"
   ]
  },
  {
   "cell_type": "code",
   "execution_count": 3,
   "metadata": {
    "jupyter": {
     "outputs_hidden": false
    },
    "pycharm": {
     "name": "#%%\n"
    }
   },
   "outputs": [
    {
     "data": {
      "text/html": [
       "<div>\n",
       "<style scoped>\n",
       "    .dataframe tbody tr th:only-of-type {\n",
       "        vertical-align: middle;\n",
       "    }\n",
       "\n",
       "    .dataframe tbody tr th {\n",
       "        vertical-align: top;\n",
       "    }\n",
       "\n",
       "    .dataframe thead th {\n",
       "        text-align: right;\n",
       "    }\n",
       "</style>\n",
       "<table border=\"1\" class=\"dataframe\">\n",
       "  <thead>\n",
       "    <tr style=\"text-align: right;\">\n",
       "      <th></th>\n",
       "      <th>0</th>\n",
       "    </tr>\n",
       "  </thead>\n",
       "  <tbody>\n",
       "    <tr>\n",
       "      <th>0</th>\n",
       "      <td>ITEM: TIMESTEP</td>\n",
       "    </tr>\n",
       "    <tr>\n",
       "      <th>1</th>\n",
       "      <td>0</td>\n",
       "    </tr>\n",
       "    <tr>\n",
       "      <th>2</th>\n",
       "      <td>ITEM: NUMBER OF ATOMS</td>\n",
       "    </tr>\n",
       "    <tr>\n",
       "      <th>3</th>\n",
       "      <td>15</td>\n",
       "    </tr>\n",
       "    <tr>\n",
       "      <th>4</th>\n",
       "      <td>ITEM: BOX BOUNDS ff fm pp</td>\n",
       "    </tr>\n",
       "    <tr>\n",
       "      <th>5</th>\n",
       "      <td>-4.1000000000000000e+01 4.1000000000000000e+01</td>\n",
       "    </tr>\n",
       "    <tr>\n",
       "      <th>6</th>\n",
       "      <td>0.0000000000000000e+00 2.0000000000000000e+02</td>\n",
       "    </tr>\n",
       "    <tr>\n",
       "      <th>7</th>\n",
       "      <td>-2.5000000000000000e-01 2.5000000000000000e-01</td>\n",
       "    </tr>\n",
       "    <tr>\n",
       "      <th>8</th>\n",
       "      <td>ITEM: ATOMS id x y</td>\n",
       "    </tr>\n",
       "    <tr>\n",
       "      <th>9</th>\n",
       "      <td>42464 -0.5 140.866</td>\n",
       "    </tr>\n",
       "    <tr>\n",
       "      <th>10</th>\n",
       "      <td>42466 -1 141.732</td>\n",
       "    </tr>\n",
       "    <tr>\n",
       "      <th>11</th>\n",
       "      <td>42469 -1.5 142.598</td>\n",
       "    </tr>\n",
       "    <tr>\n",
       "      <th>12</th>\n",
       "      <td>42470 -0.5 142.598</td>\n",
       "    </tr>\n",
       "    <tr>\n",
       "      <th>13</th>\n",
       "      <td>42473 -2 143.464</td>\n",
       "    </tr>\n",
       "    <tr>\n",
       "      <th>14</th>\n",
       "      <td>42474 -1 143.464</td>\n",
       "    </tr>\n",
       "    <tr>\n",
       "      <th>15</th>\n",
       "      <td>42463 0 140</td>\n",
       "    </tr>\n",
       "    <tr>\n",
       "      <th>16</th>\n",
       "      <td>42465 0.5 140.866</td>\n",
       "    </tr>\n",
       "    <tr>\n",
       "      <th>17</th>\n",
       "      <td>42467 0 141.732</td>\n",
       "    </tr>\n",
       "    <tr>\n",
       "      <th>18</th>\n",
       "      <td>42468 1 141.732</td>\n",
       "    </tr>\n",
       "    <tr>\n",
       "      <th>19</th>\n",
       "      <td>42471 0.5 142.598</td>\n",
       "    </tr>\n",
       "    <tr>\n",
       "      <th>20</th>\n",
       "      <td>42472 1.5 142.598</td>\n",
       "    </tr>\n",
       "    <tr>\n",
       "      <th>21</th>\n",
       "      <td>42475 0 143.464</td>\n",
       "    </tr>\n",
       "    <tr>\n",
       "      <th>22</th>\n",
       "      <td>42476 1 143.464</td>\n",
       "    </tr>\n",
       "    <tr>\n",
       "      <th>23</th>\n",
       "      <td>42477 2 143.464</td>\n",
       "    </tr>\n",
       "    <tr>\n",
       "      <th>24</th>\n",
       "      <td>ITEM: TIMESTEP</td>\n",
       "    </tr>\n",
       "    <tr>\n",
       "      <th>25</th>\n",
       "      <td>1000</td>\n",
       "    </tr>\n",
       "    <tr>\n",
       "      <th>26</th>\n",
       "      <td>ITEM: NUMBER OF ATOMS</td>\n",
       "    </tr>\n",
       "    <tr>\n",
       "      <th>27</th>\n",
       "      <td>15</td>\n",
       "    </tr>\n",
       "    <tr>\n",
       "      <th>28</th>\n",
       "      <td>ITEM: BOX BOUNDS ff fm pp</td>\n",
       "    </tr>\n",
       "    <tr>\n",
       "      <th>29</th>\n",
       "      <td>-4.1000000000000000e+01 4.1000000000000000e+01</td>\n",
       "    </tr>\n",
       "  </tbody>\n",
       "</table>\n",
       "</div>"
      ],
      "text/plain": [
       "                                                 0\n",
       "0                                   ITEM: TIMESTEP\n",
       "1                                                0\n",
       "2                            ITEM: NUMBER OF ATOMS\n",
       "3                                               15\n",
       "4                        ITEM: BOX BOUNDS ff fm pp\n",
       "5   -4.1000000000000000e+01 4.1000000000000000e+01\n",
       "6    0.0000000000000000e+00 2.0000000000000000e+02\n",
       "7   -2.5000000000000000e-01 2.5000000000000000e-01\n",
       "8                              ITEM: ATOMS id x y \n",
       "9                              42464 -0.5 140.866 \n",
       "10                               42466 -1 141.732 \n",
       "11                             42469 -1.5 142.598 \n",
       "12                             42470 -0.5 142.598 \n",
       "13                               42473 -2 143.464 \n",
       "14                               42474 -1 143.464 \n",
       "15                                    42463 0 140 \n",
       "16                              42465 0.5 140.866 \n",
       "17                                42467 0 141.732 \n",
       "18                                42468 1 141.732 \n",
       "19                              42471 0.5 142.598 \n",
       "20                              42472 1.5 142.598 \n",
       "21                                42475 0 143.464 \n",
       "22                                42476 1 143.464 \n",
       "23                                42477 2 143.464 \n",
       "24                                  ITEM: TIMESTEP\n",
       "25                                            1000\n",
       "26                           ITEM: NUMBER OF ATOMS\n",
       "27                                              15\n",
       "28                       ITEM: BOX BOUNDS ff fm pp\n",
       "29  -4.1000000000000000e+01 4.1000000000000000e+01"
      ]
     },
     "execution_count": 3,
     "metadata": {},
     "output_type": "execute_result"
    }
   ],
   "source": [
    "X.head(30)"
   ]
  },
  {
   "cell_type": "code",
   "execution_count": 4,
   "metadata": {
    "jupyter": {
     "outputs_hidden": false
    },
    "pycharm": {
     "name": "#%%\n"
    }
   },
   "outputs": [],
   "source": [
    "atom_id,x,y = map(float,X.iloc[9][0].strip().split())"
   ]
  },
  {
   "cell_type": "code",
   "execution_count": 5,
   "metadata": {
    "jupyter": {
     "outputs_hidden": false
    },
    "pycharm": {
     "name": "#%%\n"
    }
   },
   "outputs": [
    {
     "data": {
      "text/plain": [
       "(42464.0, -0.5, 140.866)"
      ]
     },
     "execution_count": 5,
     "metadata": {},
     "output_type": "execute_result"
    }
   ],
   "source": [
    "atom_id,x,y"
   ]
  },
  {
   "cell_type": "code",
   "execution_count": 6,
   "metadata": {},
   "outputs": [
    {
     "data": {
      "text/plain": [
       "14592"
      ]
     },
     "execution_count": 6,
     "metadata": {},
     "output_type": "execute_result"
    }
   ],
   "source": [
    "X.shape[0]"
   ]
  },
  {
   "cell_type": "code",
   "execution_count": 7,
   "metadata": {
    "jupyter": {
     "outputs_hidden": false
    },
    "pycharm": {
     "name": "#%%\n"
    }
   },
   "outputs": [],
   "source": [
    "# Creating df\n",
    "df = {}\n",
    "for i in range(42463,42478,1):\n",
    "    df[i] = {}\n",
    "    \n",
    "for i in range(0,X.shape[0],24):\n",
    "    time = int(X.iloc[i+1][0])*(0.00005)\n",
    "    for j in range(i+9,i+24):\n",
    "        sphere_id,x,y = map(float, X.iloc[j][0].strip().split())\n",
    "        df[int(sphere_id)][time] = [x,y]\n",
    "data = pd.DataFrame(df)\n",
    "data.index.name = 'Time'"
   ]
  },
  {
   "cell_type": "code",
   "execution_count": 8,
   "metadata": {
    "jupyter": {
     "outputs_hidden": false
    },
    "pycharm": {
     "name": "#%%\n"
    }
   },
   "outputs": [
    {
     "data": {
      "text/html": [
       "<div>\n",
       "<style scoped>\n",
       "    .dataframe tbody tr th:only-of-type {\n",
       "        vertical-align: middle;\n",
       "    }\n",
       "\n",
       "    .dataframe tbody tr th {\n",
       "        vertical-align: top;\n",
       "    }\n",
       "\n",
       "    .dataframe thead th {\n",
       "        text-align: right;\n",
       "    }\n",
       "</style>\n",
       "<table border=\"1\" class=\"dataframe\">\n",
       "  <thead>\n",
       "    <tr style=\"text-align: right;\">\n",
       "      <th></th>\n",
       "      <th>42463</th>\n",
       "      <th>42464</th>\n",
       "      <th>42465</th>\n",
       "      <th>42466</th>\n",
       "      <th>42467</th>\n",
       "      <th>42468</th>\n",
       "      <th>42469</th>\n",
       "      <th>42470</th>\n",
       "      <th>42471</th>\n",
       "      <th>42472</th>\n",
       "      <th>42473</th>\n",
       "      <th>42474</th>\n",
       "      <th>42475</th>\n",
       "      <th>42476</th>\n",
       "      <th>42477</th>\n",
       "    </tr>\n",
       "    <tr>\n",
       "      <th>Time</th>\n",
       "      <th></th>\n",
       "      <th></th>\n",
       "      <th></th>\n",
       "      <th></th>\n",
       "      <th></th>\n",
       "      <th></th>\n",
       "      <th></th>\n",
       "      <th></th>\n",
       "      <th></th>\n",
       "      <th></th>\n",
       "      <th></th>\n",
       "      <th></th>\n",
       "      <th></th>\n",
       "      <th></th>\n",
       "      <th></th>\n",
       "    </tr>\n",
       "  </thead>\n",
       "  <tbody>\n",
       "    <tr>\n",
       "      <th>0.00</th>\n",
       "      <td>[0.0, 140.0]</td>\n",
       "      <td>[-0.5, 140.866]</td>\n",
       "      <td>[0.5, 140.866]</td>\n",
       "      <td>[-1.0, 141.732]</td>\n",
       "      <td>[0.0, 141.732]</td>\n",
       "      <td>[1.0, 141.732]</td>\n",
       "      <td>[-1.5, 142.598]</td>\n",
       "      <td>[-0.5, 142.598]</td>\n",
       "      <td>[0.5, 142.598]</td>\n",
       "      <td>[1.5, 142.598]</td>\n",
       "      <td>[-2.0, 143.464]</td>\n",
       "      <td>[-1.0, 143.464]</td>\n",
       "      <td>[0.0, 143.464]</td>\n",
       "      <td>[1.0, 143.464]</td>\n",
       "      <td>[2.0, 143.464]</td>\n",
       "    </tr>\n",
       "    <tr>\n",
       "      <th>0.05</th>\n",
       "      <td>[-2.10335e-19, 139.999]</td>\n",
       "      <td>[-0.5, 140.865]</td>\n",
       "      <td>[0.5, 140.865]</td>\n",
       "      <td>[-1.0, 141.731]</td>\n",
       "      <td>[-1.67404e-19, 141.731]</td>\n",
       "      <td>[1.0, 141.731]</td>\n",
       "      <td>[-1.5, 142.597]</td>\n",
       "      <td>[-0.5, 142.597]</td>\n",
       "      <td>[0.5, 142.597]</td>\n",
       "      <td>[1.5, 142.597]</td>\n",
       "      <td>[-2.0, 143.463]</td>\n",
       "      <td>[-1.0, 143.463]</td>\n",
       "      <td>[-1.24474e-19, 143.463]</td>\n",
       "      <td>[1.0, 143.463]</td>\n",
       "      <td>[2.0, 143.463]</td>\n",
       "    </tr>\n",
       "    <tr>\n",
       "      <th>0.10</th>\n",
       "      <td>[-8.41326e-19, 139.995]</td>\n",
       "      <td>[-0.5, 140.861]</td>\n",
       "      <td>[0.5, 140.861]</td>\n",
       "      <td>[-1.0, 141.727]</td>\n",
       "      <td>[-6.69603e-19, 141.727]</td>\n",
       "      <td>[1.0, 141.727]</td>\n",
       "      <td>[-1.5, 142.593]</td>\n",
       "      <td>[-0.5, 142.593]</td>\n",
       "      <td>[0.5, 142.593]</td>\n",
       "      <td>[1.5, 142.593]</td>\n",
       "      <td>[-2.0, 143.459]</td>\n",
       "      <td>[-1.0, 143.459]</td>\n",
       "      <td>[-4.97881e-19, 143.459]</td>\n",
       "      <td>[1.0, 143.459]</td>\n",
       "      <td>[2.0, 143.459]</td>\n",
       "    </tr>\n",
       "    <tr>\n",
       "      <th>0.15</th>\n",
       "      <td>[-1.89297e-18, 139.989]</td>\n",
       "      <td>[-0.5, 140.855]</td>\n",
       "      <td>[0.5, 140.855]</td>\n",
       "      <td>[-1.0, 141.721]</td>\n",
       "      <td>[-1.5066e-18, 141.721]</td>\n",
       "      <td>[1.0, 141.721]</td>\n",
       "      <td>[-1.5, 142.587]</td>\n",
       "      <td>[-0.5, 142.587]</td>\n",
       "      <td>[0.5, 142.587]</td>\n",
       "      <td>[1.5, 142.587]</td>\n",
       "      <td>[-2.0, 143.453]</td>\n",
       "      <td>[-1.0, 143.453]</td>\n",
       "      <td>[-1.12022e-18, 143.453]</td>\n",
       "      <td>[1.0, 143.453]</td>\n",
       "      <td>[2.0, 143.453]</td>\n",
       "    </tr>\n",
       "    <tr>\n",
       "      <th>0.20</th>\n",
       "      <td>[-3.36527e-18, 139.98]</td>\n",
       "      <td>[-0.5, 140.846]</td>\n",
       "      <td>[0.5, 140.846]</td>\n",
       "      <td>[-1.0, 141.712]</td>\n",
       "      <td>[-2.67838e-18, 141.712]</td>\n",
       "      <td>[1.0, 141.712]</td>\n",
       "      <td>[-1.5, 142.578]</td>\n",
       "      <td>[-0.5, 142.578]</td>\n",
       "      <td>[0.5, 142.578]</td>\n",
       "      <td>[1.5, 142.578]</td>\n",
       "      <td>[-2.0, 143.444]</td>\n",
       "      <td>[-1.0, 143.444]</td>\n",
       "      <td>[-1.99149e-18, 143.444]</td>\n",
       "      <td>[1.0, 143.444]</td>\n",
       "      <td>[2.0, 143.444]</td>\n",
       "    </tr>\n",
       "    <tr>\n",
       "      <th>...</th>\n",
       "      <td>...</td>\n",
       "      <td>...</td>\n",
       "      <td>...</td>\n",
       "      <td>...</td>\n",
       "      <td>...</td>\n",
       "      <td>...</td>\n",
       "      <td>...</td>\n",
       "      <td>...</td>\n",
       "      <td>...</td>\n",
       "      <td>...</td>\n",
       "      <td>...</td>\n",
       "      <td>...</td>\n",
       "      <td>...</td>\n",
       "      <td>...</td>\n",
       "      <td>...</td>\n",
       "    </tr>\n",
       "    <tr>\n",
       "      <th>30.15</th>\n",
       "      <td>[0.217919, 4.71393]</td>\n",
       "      <td>[-0.389032, 5.50865]</td>\n",
       "      <td>[0.602707, 5.63692]</td>\n",
       "      <td>[-0.995984, 6.30336]</td>\n",
       "      <td>[-0.00424434, 6.43163]</td>\n",
       "      <td>[0.987495, 6.5599]</td>\n",
       "      <td>[-1.60293, 7.09807]</td>\n",
       "      <td>[-0.611196, 7.22634]</td>\n",
       "      <td>[0.380544, 7.35461]</td>\n",
       "      <td>[1.37228, 7.48288]</td>\n",
       "      <td>[-2.20989, 7.89278]</td>\n",
       "      <td>[-1.21815, 8.02105]</td>\n",
       "      <td>[-0.226408, 8.14932]</td>\n",
       "      <td>[0.765332, 8.27759]</td>\n",
       "      <td>[1.75707, 8.40586]</td>\n",
       "    </tr>\n",
       "    <tr>\n",
       "      <th>30.20</th>\n",
       "      <td>[0.219473, 4.71297]</td>\n",
       "      <td>[-0.38759, 5.5076]</td>\n",
       "      <td>[0.604132, 5.63601]</td>\n",
       "      <td>[-0.994653, 6.30222]</td>\n",
       "      <td>[-0.0029314, 6.43063]</td>\n",
       "      <td>[0.98879, 6.55904]</td>\n",
       "      <td>[-1.60172, 7.09685]</td>\n",
       "      <td>[-0.609994, 7.22526]</td>\n",
       "      <td>[0.381727, 7.35367]</td>\n",
       "      <td>[1.37345, 7.48208]</td>\n",
       "      <td>[-2.20878, 7.89148]</td>\n",
       "      <td>[-1.21706, 8.01988]</td>\n",
       "      <td>[-0.225336, 8.14829]</td>\n",
       "      <td>[0.766385, 8.2767]</td>\n",
       "      <td>[1.75811, 8.40511]</td>\n",
       "    </tr>\n",
       "    <tr>\n",
       "      <th>30.25</th>\n",
       "      <td>[0.220972, 4.71242]</td>\n",
       "      <td>[-0.386169, 5.50699]</td>\n",
       "      <td>[0.60554, 5.63549]</td>\n",
       "      <td>[-0.99331, 6.30155]</td>\n",
       "      <td>[-0.00160141, 6.43006]</td>\n",
       "      <td>[0.990107, 6.55856]</td>\n",
       "      <td>[-1.60045, 7.09612]</td>\n",
       "      <td>[-0.608742, 7.22462]</td>\n",
       "      <td>[0.382966, 7.35313]</td>\n",
       "      <td>[1.37467, 7.48164]</td>\n",
       "      <td>[-2.20759, 7.89068]</td>\n",
       "      <td>[-1.21588, 8.01919]</td>\n",
       "      <td>[-0.224175, 8.1477]</td>\n",
       "      <td>[0.767534, 8.2762]</td>\n",
       "      <td>[1.75924, 8.40471]</td>\n",
       "    </tr>\n",
       "    <tr>\n",
       "      <th>30.30</th>\n",
       "      <td>[0.2223, 4.7123]</td>\n",
       "      <td>[-0.384867, 5.50684]</td>\n",
       "      <td>[0.606838, 5.63538]</td>\n",
       "      <td>[-0.992034, 6.30139]</td>\n",
       "      <td>[-0.000329465, 6.42993]</td>\n",
       "      <td>[0.991375, 6.55847]</td>\n",
       "      <td>[-1.5992, 7.09594]</td>\n",
       "      <td>[-0.607497, 7.22448]</td>\n",
       "      <td>[0.384208, 7.35302]</td>\n",
       "      <td>[1.37591, 7.48155]</td>\n",
       "      <td>[-2.20637, 7.89048]</td>\n",
       "      <td>[-1.21466, 8.01902]</td>\n",
       "      <td>[-0.222959, 8.14756]</td>\n",
       "      <td>[0.768745, 8.2761]</td>\n",
       "      <td>[1.76045, 8.40464]</td>\n",
       "    </tr>\n",
       "    <tr>\n",
       "      <th>30.35</th>\n",
       "      <td>[0.223376, 4.71261]</td>\n",
       "      <td>[-0.383757, 5.50718]</td>\n",
       "      <td>[0.607953, 5.63568]</td>\n",
       "      <td>[-0.99089, 6.30176]</td>\n",
       "      <td>[0.000820092, 6.43025]</td>\n",
       "      <td>[0.99253, 6.55875]</td>\n",
       "      <td>[-1.59802, 7.09633]</td>\n",
       "      <td>[-0.606313, 7.22483]</td>\n",
       "      <td>[0.385397, 7.35332]</td>\n",
       "      <td>[1.37711, 7.48182]</td>\n",
       "      <td>[-2.20516, 7.8909]</td>\n",
       "      <td>[-1.21345, 8.0194]</td>\n",
       "      <td>[-0.221736, 8.14789]</td>\n",
       "      <td>[0.769974, 8.27639]</td>\n",
       "      <td>[1.76168, 8.40489]</td>\n",
       "    </tr>\n",
       "  </tbody>\n",
       "</table>\n",
       "<p>608 rows × 15 columns</p>\n",
       "</div>"
      ],
      "text/plain": [
       "                         42463                 42464                42465  \\\n",
       "Time                                                                        \n",
       "0.00              [0.0, 140.0]       [-0.5, 140.866]       [0.5, 140.866]   \n",
       "0.05   [-2.10335e-19, 139.999]       [-0.5, 140.865]       [0.5, 140.865]   \n",
       "0.10   [-8.41326e-19, 139.995]       [-0.5, 140.861]       [0.5, 140.861]   \n",
       "0.15   [-1.89297e-18, 139.989]       [-0.5, 140.855]       [0.5, 140.855]   \n",
       "0.20    [-3.36527e-18, 139.98]       [-0.5, 140.846]       [0.5, 140.846]   \n",
       "...                        ...                   ...                  ...   \n",
       "30.15      [0.217919, 4.71393]  [-0.389032, 5.50865]  [0.602707, 5.63692]   \n",
       "30.20      [0.219473, 4.71297]    [-0.38759, 5.5076]  [0.604132, 5.63601]   \n",
       "30.25      [0.220972, 4.71242]  [-0.386169, 5.50699]   [0.60554, 5.63549]   \n",
       "30.30         [0.2223, 4.7123]  [-0.384867, 5.50684]  [0.606838, 5.63538]   \n",
       "30.35      [0.223376, 4.71261]  [-0.383757, 5.50718]  [0.607953, 5.63568]   \n",
       "\n",
       "                      42466                    42467                42468  \\\n",
       "Time                                                                        \n",
       "0.00        [-1.0, 141.732]           [0.0, 141.732]       [1.0, 141.732]   \n",
       "0.05        [-1.0, 141.731]  [-1.67404e-19, 141.731]       [1.0, 141.731]   \n",
       "0.10        [-1.0, 141.727]  [-6.69603e-19, 141.727]       [1.0, 141.727]   \n",
       "0.15        [-1.0, 141.721]   [-1.5066e-18, 141.721]       [1.0, 141.721]   \n",
       "0.20        [-1.0, 141.712]  [-2.67838e-18, 141.712]       [1.0, 141.712]   \n",
       "...                     ...                      ...                  ...   \n",
       "30.15  [-0.995984, 6.30336]   [-0.00424434, 6.43163]   [0.987495, 6.5599]   \n",
       "30.20  [-0.994653, 6.30222]    [-0.0029314, 6.43063]   [0.98879, 6.55904]   \n",
       "30.25   [-0.99331, 6.30155]   [-0.00160141, 6.43006]  [0.990107, 6.55856]   \n",
       "30.30  [-0.992034, 6.30139]  [-0.000329465, 6.42993]  [0.991375, 6.55847]   \n",
       "30.35   [-0.99089, 6.30176]   [0.000820092, 6.43025]   [0.99253, 6.55875]   \n",
       "\n",
       "                     42469                 42470                42471  \\\n",
       "Time                                                                    \n",
       "0.00       [-1.5, 142.598]       [-0.5, 142.598]       [0.5, 142.598]   \n",
       "0.05       [-1.5, 142.597]       [-0.5, 142.597]       [0.5, 142.597]   \n",
       "0.10       [-1.5, 142.593]       [-0.5, 142.593]       [0.5, 142.593]   \n",
       "0.15       [-1.5, 142.587]       [-0.5, 142.587]       [0.5, 142.587]   \n",
       "0.20       [-1.5, 142.578]       [-0.5, 142.578]       [0.5, 142.578]   \n",
       "...                    ...                   ...                  ...   \n",
       "30.15  [-1.60293, 7.09807]  [-0.611196, 7.22634]  [0.380544, 7.35461]   \n",
       "30.20  [-1.60172, 7.09685]  [-0.609994, 7.22526]  [0.381727, 7.35367]   \n",
       "30.25  [-1.60045, 7.09612]  [-0.608742, 7.22462]  [0.382966, 7.35313]   \n",
       "30.30   [-1.5992, 7.09594]  [-0.607497, 7.22448]  [0.384208, 7.35302]   \n",
       "30.35  [-1.59802, 7.09633]  [-0.606313, 7.22483]  [0.385397, 7.35332]   \n",
       "\n",
       "                    42472                42473                42474  \\\n",
       "Time                                                                  \n",
       "0.00       [1.5, 142.598]      [-2.0, 143.464]      [-1.0, 143.464]   \n",
       "0.05       [1.5, 142.597]      [-2.0, 143.463]      [-1.0, 143.463]   \n",
       "0.10       [1.5, 142.593]      [-2.0, 143.459]      [-1.0, 143.459]   \n",
       "0.15       [1.5, 142.587]      [-2.0, 143.453]      [-1.0, 143.453]   \n",
       "0.20       [1.5, 142.578]      [-2.0, 143.444]      [-1.0, 143.444]   \n",
       "...                   ...                  ...                  ...   \n",
       "30.15  [1.37228, 7.48288]  [-2.20989, 7.89278]  [-1.21815, 8.02105]   \n",
       "30.20  [1.37345, 7.48208]  [-2.20878, 7.89148]  [-1.21706, 8.01988]   \n",
       "30.25  [1.37467, 7.48164]  [-2.20759, 7.89068]  [-1.21588, 8.01919]   \n",
       "30.30  [1.37591, 7.48155]  [-2.20637, 7.89048]  [-1.21466, 8.01902]   \n",
       "30.35  [1.37711, 7.48182]   [-2.20516, 7.8909]   [-1.21345, 8.0194]   \n",
       "\n",
       "                         42475                42476               42477  \n",
       "Time                                                                     \n",
       "0.00            [0.0, 143.464]       [1.0, 143.464]      [2.0, 143.464]  \n",
       "0.05   [-1.24474e-19, 143.463]       [1.0, 143.463]      [2.0, 143.463]  \n",
       "0.10   [-4.97881e-19, 143.459]       [1.0, 143.459]      [2.0, 143.459]  \n",
       "0.15   [-1.12022e-18, 143.453]       [1.0, 143.453]      [2.0, 143.453]  \n",
       "0.20   [-1.99149e-18, 143.444]       [1.0, 143.444]      [2.0, 143.444]  \n",
       "...                        ...                  ...                 ...  \n",
       "30.15     [-0.226408, 8.14932]  [0.765332, 8.27759]  [1.75707, 8.40586]  \n",
       "30.20     [-0.225336, 8.14829]   [0.766385, 8.2767]  [1.75811, 8.40511]  \n",
       "30.25      [-0.224175, 8.1477]   [0.767534, 8.2762]  [1.75924, 8.40471]  \n",
       "30.30     [-0.222959, 8.14756]   [0.768745, 8.2761]  [1.76045, 8.40464]  \n",
       "30.35     [-0.221736, 8.14789]  [0.769974, 8.27639]  [1.76168, 8.40489]  \n",
       "\n",
       "[608 rows x 15 columns]"
      ]
     },
     "execution_count": 8,
     "metadata": {},
     "output_type": "execute_result"
    }
   ],
   "source": [
    "data"
   ]
  },
  {
   "cell_type": "code",
   "execution_count": 9,
   "metadata": {
    "jupyter": {
     "outputs_hidden": false
    },
    "pycharm": {
     "name": "#%%\n"
    }
   },
   "outputs": [],
   "source": [
    "time_Arr = []\n",
    "x_Arr = []\n",
    "y_Arr = []\n",
    "for i in data.index:\n",
    "    instance  = data.loc[i]\n",
    "    time_Arr.append(i)\n",
    "    center_x = (instance[42463][0]+instance[42473][0]+instance[42477][0])/3\n",
    "    x_Arr.append(center_x)\n",
    "    center_y = (instance[42463][1]+instance[42473][1]+instance[42477][1])/3\n",
    "    y_Arr.append(center_y)\n",
    "\n",
    "\n",
    "centroid_df =pd.DataFrame({\"time\":time_Arr,\"x\":x_Arr,\"y\":y_Arr})"
   ]
  },
  {
   "cell_type": "code",
   "execution_count": 10,
   "metadata": {
    "jupyter": {
     "outputs_hidden": false
    },
    "pycharm": {
     "name": "#%%\n"
    }
   },
   "outputs": [
    {
     "data": {
      "text/html": [
       "<div>\n",
       "<style scoped>\n",
       "    .dataframe tbody tr th:only-of-type {\n",
       "        vertical-align: middle;\n",
       "    }\n",
       "\n",
       "    .dataframe tbody tr th {\n",
       "        vertical-align: top;\n",
       "    }\n",
       "\n",
       "    .dataframe thead th {\n",
       "        text-align: right;\n",
       "    }\n",
       "</style>\n",
       "<table border=\"1\" class=\"dataframe\">\n",
       "  <thead>\n",
       "    <tr style=\"text-align: right;\">\n",
       "      <th></th>\n",
       "      <th>time</th>\n",
       "      <th>x</th>\n",
       "      <th>y</th>\n",
       "    </tr>\n",
       "  </thead>\n",
       "  <tbody>\n",
       "    <tr>\n",
       "      <th>0</th>\n",
       "      <td>0.00</td>\n",
       "      <td>0.000000</td>\n",
       "      <td>142.309333</td>\n",
       "    </tr>\n",
       "    <tr>\n",
       "      <th>1</th>\n",
       "      <td>0.05</td>\n",
       "      <td>0.000000</td>\n",
       "      <td>142.308333</td>\n",
       "    </tr>\n",
       "    <tr>\n",
       "      <th>2</th>\n",
       "      <td>0.10</td>\n",
       "      <td>0.000000</td>\n",
       "      <td>142.304333</td>\n",
       "    </tr>\n",
       "    <tr>\n",
       "      <th>3</th>\n",
       "      <td>0.15</td>\n",
       "      <td>0.000000</td>\n",
       "      <td>142.298333</td>\n",
       "    </tr>\n",
       "    <tr>\n",
       "      <th>4</th>\n",
       "      <td>0.20</td>\n",
       "      <td>0.000000</td>\n",
       "      <td>142.289333</td>\n",
       "    </tr>\n",
       "    <tr>\n",
       "      <th>...</th>\n",
       "      <td>...</td>\n",
       "      <td>...</td>\n",
       "      <td>...</td>\n",
       "    </tr>\n",
       "    <tr>\n",
       "      <th>603</th>\n",
       "      <td>30.15</td>\n",
       "      <td>-0.078300</td>\n",
       "      <td>7.004190</td>\n",
       "    </tr>\n",
       "    <tr>\n",
       "      <th>604</th>\n",
       "      <td>30.20</td>\n",
       "      <td>-0.077066</td>\n",
       "      <td>7.003187</td>\n",
       "    </tr>\n",
       "    <tr>\n",
       "      <th>605</th>\n",
       "      <td>30.25</td>\n",
       "      <td>-0.075793</td>\n",
       "      <td>7.002603</td>\n",
       "    </tr>\n",
       "    <tr>\n",
       "      <th>606</th>\n",
       "      <td>30.30</td>\n",
       "      <td>-0.074540</td>\n",
       "      <td>7.002473</td>\n",
       "    </tr>\n",
       "    <tr>\n",
       "      <th>607</th>\n",
       "      <td>30.35</td>\n",
       "      <td>-0.073368</td>\n",
       "      <td>7.002800</td>\n",
       "    </tr>\n",
       "  </tbody>\n",
       "</table>\n",
       "<p>608 rows × 3 columns</p>\n",
       "</div>"
      ],
      "text/plain": [
       "      time         x           y\n",
       "0     0.00  0.000000  142.309333\n",
       "1     0.05  0.000000  142.308333\n",
       "2     0.10  0.000000  142.304333\n",
       "3     0.15  0.000000  142.298333\n",
       "4     0.20  0.000000  142.289333\n",
       "..     ...       ...         ...\n",
       "603  30.15 -0.078300    7.004190\n",
       "604  30.20 -0.077066    7.003187\n",
       "605  30.25 -0.075793    7.002603\n",
       "606  30.30 -0.074540    7.002473\n",
       "607  30.35 -0.073368    7.002800\n",
       "\n",
       "[608 rows x 3 columns]"
      ]
     },
     "execution_count": 10,
     "metadata": {},
     "output_type": "execute_result"
    }
   ],
   "source": [
    "centroid_df"
   ]
  },
  {
   "cell_type": "code",
   "execution_count": 11,
   "metadata": {
    "jupyter": {
     "outputs_hidden": false
    },
    "pycharm": {
     "name": "#%%\n"
    }
   },
   "outputs": [
    {
     "data": {
      "image/png": "[encoded data removed]",
      "text/plain": [
       "<Figure size 432x288 with 1 Axes>"
      ]
     },
     "metadata": {
      "needs_background": "light"
     },
     "output_type": "display_data"
    }
   ],
   "source": [
    "# y Vs x\n",
    "# plt.figure(figsize=(20,10),dpi=400)\n",
    "plt.plot(x_Arr,y_Arr)\n",
    "plt.ylabel('Y')\n",
    "plt.xlabel('X')\n",
    "plt.title('Center of mass of intruder')\n",
    "plt.savefig('intruder y Vs x.jpg',bbox_inches='tight')\n",
    "plt.show()"
   ]
  },
  {
   "cell_type": "code",
   "execution_count": 12,
   "metadata": {
    "jupyter": {
     "outputs_hidden": false
    },
    "pycharm": {
     "name": "#%%\n"
    }
   },
   "outputs": [
    {
     "data": {
      "image/png": "[encoded data removed]",
      "text/plain": [
       "<Figure size 432x288 with 1 Axes>"
      ]
     },
     "metadata": {
      "needs_background": "light"
     },
     "output_type": "display_data"
    }
   ],
   "source": [
    "# x Vs y\n",
    "# plt.figure(figsize=(20,10),dpi=400)\n",
    "plt.gca().invert_xaxis()\n",
    "plt.plot(y_Arr,x_Arr)\n",
    "plt.xlabel('Y')\n",
    "plt.ylabel('X')\n",
    "plt.title('Center of mass of intruder')\n",
    "plt.savefig('intruder x Vs y.jpg',bbox_inches='tight')\n",
    "plt.show()"
   ]
  },
  {
   "cell_type": "code",
   "execution_count": 13,
   "metadata": {
    "jupyter": {
     "outputs_hidden": false
    },
    "pycharm": {
     "name": "#%%\n"
    }
   },
   "outputs": [
    {
     "data": {
      "image/png": "[encoded data removed]",
      "text/plain": [
       "<Figure size 432x288 with 1 Axes>"
      ]
     },
     "metadata": {
      "needs_background": "light"
     },
     "output_type": "display_data"
    }
   ],
   "source": [
    "# y Vs time\n",
    "# plt.figure(figsize=(20,10),dpi=400)\n",
    "plt.plot(time_Arr,y_Arr)\n",
    "plt.xlabel('time')\n",
    "plt.ylabel('Y')\n",
    "plt.title('Center of mass of intruder')\n",
    "plt.savefig('intruder y Vs time.jpg',bbox_inches='tight')\n",
    "plt.show()"
   ]
  },
  {
   "cell_type": "code",
   "execution_count": 14,
   "metadata": {
    "jupyter": {
     "outputs_hidden": false
    },
    "pycharm": {
     "name": "#%%\n"
    }
   },
   "outputs": [
    {
     "data": {
      "image/png": "[encoded data removed]",
      "text/plain": [
       "<Figure size 432x288 with 1 Axes>"
      ]
     },
     "metadata": {
      "needs_background": "light"
     },
     "output_type": "display_data"
    }
   ],
   "source": [
    "# x Vs time\n",
    "# plt.figure(figsize=(20,10),dpi=400)\n",
    "plt.plot(time_Arr,x_Arr)\n",
    "plt.xlabel('time')\n",
    "plt.ylabel('X')\n",
    "plt.title('Center of mass of intruder')\n",
    "plt.savefig('intruder x Vs time.jpg',bbox_inches='tight')\n",
    "plt.show()"
   ]
  },
  {
   "cell_type": "markdown",
   "metadata": {
    "jupyter": {
     "outputs_hidden": false
    },
    "pycharm": {
     "name": "#%%\n"
    }
   },
   "source": [
    "## For orientation for intruder"
   ]
  },
  {
   "cell_type": "code",
   "execution_count": 15,
   "metadata": {},
   "outputs": [],
   "source": [
    "orientation = []\n",
    "for i in data.index:\n",
    "    instance  = data.loc[i]\n",
    "    dely = (instance[42477][1]-instance[42473][1])\n",
    "    delx = (instance[42477][0]-instance[42473][0])\n",
    "    theta = np.arctan2(dely,delx)*180/np.pi\n",
    "    orientation.append(theta)\n",
    "    \n",
    "orientation_df =pd.DataFrame({\"time\":time_Arr,\"orientation\":orientation})"
   ]
  },
  {
   "cell_type": "code",
   "execution_count": 16,
   "metadata": {},
   "outputs": [
    {
     "data": {
      "text/html": [
       "<div>\n",
       "<style scoped>\n",
       "    .dataframe tbody tr th:only-of-type {\n",
       "        vertical-align: middle;\n",
       "    }\n",
       "\n",
       "    .dataframe tbody tr th {\n",
       "        vertical-align: top;\n",
       "    }\n",
       "\n",
       "    .dataframe thead th {\n",
       "        text-align: right;\n",
       "    }\n",
       "</style>\n",
       "<table border=\"1\" class=\"dataframe\">\n",
       "  <thead>\n",
       "    <tr style=\"text-align: right;\">\n",
       "      <th></th>\n",
       "      <th>time</th>\n",
       "      <th>orientation</th>\n",
       "    </tr>\n",
       "  </thead>\n",
       "  <tbody>\n",
       "    <tr>\n",
       "      <th>0</th>\n",
       "      <td>0.00</td>\n",
       "      <td>0.000000</td>\n",
       "    </tr>\n",
       "    <tr>\n",
       "      <th>1</th>\n",
       "      <td>0.05</td>\n",
       "      <td>0.000000</td>\n",
       "    </tr>\n",
       "    <tr>\n",
       "      <th>2</th>\n",
       "      <td>0.10</td>\n",
       "      <td>0.000000</td>\n",
       "    </tr>\n",
       "    <tr>\n",
       "      <th>3</th>\n",
       "      <td>0.15</td>\n",
       "      <td>0.000000</td>\n",
       "    </tr>\n",
       "    <tr>\n",
       "      <th>4</th>\n",
       "      <td>0.20</td>\n",
       "      <td>0.000000</td>\n",
       "    </tr>\n",
       "    <tr>\n",
       "      <th>...</th>\n",
       "      <td>...</td>\n",
       "      <td>...</td>\n",
       "    </tr>\n",
       "    <tr>\n",
       "      <th>603</th>\n",
       "      <td>30.15</td>\n",
       "      <td>7.369628</td>\n",
       "    </tr>\n",
       "    <tr>\n",
       "      <th>604</th>\n",
       "      <td>30.20</td>\n",
       "      <td>7.377570</td>\n",
       "    </tr>\n",
       "    <tr>\n",
       "      <th>605</th>\n",
       "      <td>30.25</td>\n",
       "      <td>7.383363</td>\n",
       "    </tr>\n",
       "    <tr>\n",
       "      <th>606</th>\n",
       "      <td>30.30</td>\n",
       "      <td>7.385228</td>\n",
       "    </tr>\n",
       "    <tr>\n",
       "      <th>607</th>\n",
       "      <td>30.35</td>\n",
       "      <td>7.382776</td>\n",
       "    </tr>\n",
       "  </tbody>\n",
       "</table>\n",
       "<p>608 rows × 2 columns</p>\n",
       "</div>"
      ],
      "text/plain": [
       "      time  orientation\n",
       "0     0.00     0.000000\n",
       "1     0.05     0.000000\n",
       "2     0.10     0.000000\n",
       "3     0.15     0.000000\n",
       "4     0.20     0.000000\n",
       "..     ...          ...\n",
       "603  30.15     7.369628\n",
       "604  30.20     7.377570\n",
       "605  30.25     7.383363\n",
       "606  30.30     7.385228\n",
       "607  30.35     7.382776\n",
       "\n",
       "[608 rows x 2 columns]"
      ]
     },
     "execution_count": 16,
     "metadata": {},
     "output_type": "execute_result"
    }
   ],
   "source": [
    "orientation_df"
   ]
  },
  {
   "cell_type": "code",
   "execution_count": 17,
   "metadata": {},
   "outputs": [
    {
     "data": {
      "image/png": "[encoded data removed]",
      "text/plain": [
       "<Figure size 432x288 with 1 Axes>"
      ]
     },
     "metadata": {
      "needs_background": "light"
     },
     "output_type": "display_data"
    }
   ],
   "source": [
    "# theta Vs time\n",
    "# plt.figure(figsize=(20,10),dpi=400)\n",
    "plt.plot(time_Arr,orientation)\n",
    "plt.xlabel('time')\n",
    "plt.ylabel('theta (degrees)')\n",
    "plt.title('Orientation of intruder')\n",
    "plt.savefig('orientation.jpg',bbox_inches='tight')\n",
    "plt.show()"
   ]
  },
  {
   "cell_type": "code",
   "execution_count": null,
   "metadata": {},
   "outputs": [],
   "source": []
  }
 ],
 "metadata": {
  "kernelspec": {
   "display_name": "Python 3 (ipykernel)",
   "language": "python",
   "name": "python3"
  },
  "language_info": {
   "codemirror_mode": {
    "name": "ipython",
    "version": 3
   },
   "file_extension": ".py",
   "mimetype": "text/x-python",
   "name": "python",
   "nbconvert_exporter": "python",
   "pygments_lexer": "ipython3",
   "version": "3.7.0"
  }
 },
 "nbformat": 4,
 "nbformat_minor": 4
}
